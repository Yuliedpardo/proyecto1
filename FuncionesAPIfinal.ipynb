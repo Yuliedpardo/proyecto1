{
 "cells": [
  {
   "cell_type": "code",
   "execution_count": 11,
   "metadata": {},
   "outputs": [],
   "source": [
    "import pandas as pd\n",
    "import numpy as np"
   ]
  },
  {
   "cell_type": "code",
   "execution_count": 17,
   "metadata": {},
   "outputs": [],
   "source": [
    "#leemos el documento guardado en csv\n",
    "user_total= pd.read_csv(r\"consulta1.csv\")\n",
    "consulta2 = pd.read_csv(r'consulta2.csv')\n",
    "consulta5 = pd.read_csv(r'consulta5.csv')"
   ]
  },
  {
   "cell_type": "code",
   "execution_count": 5,
   "metadata": {},
   "outputs": [
    {
     "name": "stdout",
     "output_type": "stream",
     "text": [
      "User -2SV-vuLB-Kg:\n",
      "Dinero gastado: $427.5\n",
      "Porcentaje de recomendación: 1.0%\n",
      "Cantidad de items: 68.0\n"
     ]
    }
   ],
   "source": [
    "def userdata(user_id):\n",
    "    # Filtrar el DataFrame user_total por el user_id especificado\n",
    "    user_data = user_total[user_total['user_id'] == user_id]\n",
    "\n",
    "    # Obtener la cantidad de dinero gastado por el usuario\n",
    "    money_spent = user_data['price'].values[0]\n",
    "\n",
    "    # Obtener el porcentaje de recomendación\n",
    "    recommend_percentage = user_data['porcentaje'].values[0]\n",
    "\n",
    "    # Obtener la cantidad de items del usuario\n",
    "    items_count = user_data['items_count'].values[0]\n",
    "\n",
    "    return money_spent, recommend_percentage, items_count\n",
    "\n",
    "# Ejemplo de uso\n",
    "user_id = '-2SV-vuLB-Kg'\n",
    "money_spent, recommend_percentage, items_count = userdata(user_id)\n",
    "print(f\"User {user_id}:\")\n",
    "print(f\"Dinero gastado: ${money_spent}\")\n",
    "print(f\"Porcentaje de recomendación: {recommend_percentage}%\")\n",
    "print(f\"Cantidad de items: {items_count}\")"
   ]
  },
  {
   "cell_type": "code",
   "execution_count": 4,
   "metadata": {},
   "outputs": [
    {
     "name": "stdout",
     "output_type": "stream",
     "text": [
      "{'Cantidad de usuarios que realizaron reseñas': 106, 'Porcentaje de recomendación promedio': 0.9334568733153639}\n"
     ]
    }
   ],
   "source": [
    "import pandas as pd\n",
    "\n",
    "\n",
    "def countreviews(start_date: str, end_date: str):\n",
    "    # Convertir la columna 'porcentaje' a números flotantes, ignorando los valores no válidos\n",
    "    consulta2['porcentaje'] = pd.to_numeric(consulta2['porcentaje'], errors='coerce')\n",
    "    \n",
    "    # Filtrar el DataFrame para obtener las reseñas dentro del rango de fechas\n",
    "    filtered_df = consulta2[(consulta2['posted'] >= start_date) & (consulta2['posted'] <= end_date)]\n",
    "    \n",
    "    # Calcular la cantidad de usuarios que realizaron reseñas en ese período\n",
    "    users_count = len(filtered_df['user_id'].unique())\n",
    "    \n",
    "    # Calcular el porcentaje de recomendación promedio en base a las reseñas\n",
    "    recommendation_percentage = filtered_df['porcentaje'].mean()\n",
    "    \n",
    "    return {\n",
    "        \"Cantidad de usuarios que realizaron reseñas\": users_count,\n",
    "        \"Porcentaje de recomendación promedio\": recommendation_percentage\n",
    "    }\n",
    "\n",
    "# Llamar a la función countreviews con las fechas de inicio y fin en formato 'YYYY-MM-DD'\n",
    "start_date = '2014-03-20'\n",
    "end_date = '2014-03-23'\n",
    "\n",
    "result = countreviews(start_date, end_date)\n",
    "\n",
    "# Imprimir los resultados\n",
    "print(result)\n"
   ]
  },
  {
   "cell_type": "code",
   "execution_count": 18,
   "metadata": {},
   "outputs": [
    {
     "data": {
      "text/html": [
       "<div>\n",
       "<style scoped>\n",
       "    .dataframe tbody tr th:only-of-type {\n",
       "        vertical-align: middle;\n",
       "    }\n",
       "\n",
       "    .dataframe tbody tr th {\n",
       "        vertical-align: top;\n",
       "    }\n",
       "\n",
       "    .dataframe thead th {\n",
       "        text-align: right;\n",
       "    }\n",
       "</style>\n",
       "<table border=\"1\" class=\"dataframe\">\n",
       "  <thead>\n",
       "    <tr style=\"text-align: right;\">\n",
       "      <th></th>\n",
       "      <th>item_id</th>\n",
       "      <th>developer</th>\n",
       "      <th>price</th>\n",
       "      <th>release_year</th>\n",
       "    </tr>\n",
       "  </thead>\n",
       "  <tbody>\n",
       "    <tr>\n",
       "      <th>0</th>\n",
       "      <td>761140</td>\n",
       "      <td>Kotoshiro</td>\n",
       "      <td>4.99</td>\n",
       "      <td>2018</td>\n",
       "    </tr>\n",
       "    <tr>\n",
       "      <th>1</th>\n",
       "      <td>761140</td>\n",
       "      <td>Kotoshiro</td>\n",
       "      <td>4.99</td>\n",
       "      <td>2018</td>\n",
       "    </tr>\n",
       "    <tr>\n",
       "      <th>2</th>\n",
       "      <td>761140</td>\n",
       "      <td>Kotoshiro</td>\n",
       "      <td>4.99</td>\n",
       "      <td>2018</td>\n",
       "    </tr>\n",
       "    <tr>\n",
       "      <th>3</th>\n",
       "      <td>761140</td>\n",
       "      <td>Kotoshiro</td>\n",
       "      <td>4.99</td>\n",
       "      <td>2018</td>\n",
       "    </tr>\n",
       "    <tr>\n",
       "      <th>4</th>\n",
       "      <td>761140</td>\n",
       "      <td>Kotoshiro</td>\n",
       "      <td>4.99</td>\n",
       "      <td>2018</td>\n",
       "    </tr>\n",
       "    <tr>\n",
       "      <th>...</th>\n",
       "      <td>...</td>\n",
       "      <td>...</td>\n",
       "      <td>...</td>\n",
       "      <td>...</td>\n",
       "    </tr>\n",
       "    <tr>\n",
       "      <th>70697</th>\n",
       "      <td>610660</td>\n",
       "      <td>Laush Dmitriy Sergeevich</td>\n",
       "      <td>1.99</td>\n",
       "      <td>2018</td>\n",
       "    </tr>\n",
       "    <tr>\n",
       "      <th>70698</th>\n",
       "      <td>610660</td>\n",
       "      <td>Laush Dmitriy Sergeevich</td>\n",
       "      <td>1.99</td>\n",
       "      <td>2018</td>\n",
       "    </tr>\n",
       "    <tr>\n",
       "      <th>70699</th>\n",
       "      <td>610660</td>\n",
       "      <td>Laush Dmitriy Sergeevich</td>\n",
       "      <td>1.99</td>\n",
       "      <td>2018</td>\n",
       "    </tr>\n",
       "    <tr>\n",
       "      <th>70700</th>\n",
       "      <td>658870</td>\n",
       "      <td>xropi,stev3ns</td>\n",
       "      <td>4.99</td>\n",
       "      <td>2017</td>\n",
       "    </tr>\n",
       "    <tr>\n",
       "      <th>70701</th>\n",
       "      <td>658870</td>\n",
       "      <td>xropi,stev3ns</td>\n",
       "      <td>4.99</td>\n",
       "      <td>2017</td>\n",
       "    </tr>\n",
       "  </tbody>\n",
       "</table>\n",
       "<p>70702 rows × 4 columns</p>\n",
       "</div>"
      ],
      "text/plain": [
       "       item_id                 developer  price  release_year\n",
       "0       761140                 Kotoshiro   4.99          2018\n",
       "1       761140                 Kotoshiro   4.99          2018\n",
       "2       761140                 Kotoshiro   4.99          2018\n",
       "3       761140                 Kotoshiro   4.99          2018\n",
       "4       761140                 Kotoshiro   4.99          2018\n",
       "...        ...                       ...    ...           ...\n",
       "70697   610660  Laush Dmitriy Sergeevich   1.99          2018\n",
       "70698   610660  Laush Dmitriy Sergeevich   1.99          2018\n",
       "70699   610660  Laush Dmitriy Sergeevich   1.99          2018\n",
       "70700   658870             xropi,stev3ns   4.99          2017\n",
       "70701   658870             xropi,stev3ns   4.99          2017\n",
       "\n",
       "[70702 rows x 4 columns]"
      ]
     },
     "execution_count": 18,
     "metadata": {},
     "output_type": "execute_result"
    }
   ],
   "source": [
    "consulta5"
   ]
  },
  {
   "cell_type": "code",
   "execution_count": 19,
   "metadata": {},
   "outputs": [
    {
     "data": {
      "text/plain": [
       "{'Cantidad Items': '34',\n",
       " 'Porcentaje Contenido Free': [{'Año': '1998', 'Contenido Free': '0.00%'},\n",
       "  {'Año': '1999', 'Contenido Free': '0.00%'},\n",
       "  {'Año': '2000', 'Contenido Free': '0.00%'},\n",
       "  {'Año': '2001', 'Contenido Free': '0.00%'},\n",
       "  {'Año': '2003', 'Contenido Free': '0.00%'},\n",
       "  {'Año': '2004', 'Contenido Free': '0.00%'},\n",
       "  {'Año': '2005', 'Contenido Free': '100.00%'},\n",
       "  {'Año': '2006', 'Contenido Free': '0.00%'},\n",
       "  {'Año': '2007', 'Contenido Free': '33.33%'},\n",
       "  {'Año': '2008', 'Contenido Free': '0.00%'},\n",
       "  {'Año': '2009', 'Contenido Free': '0.00%'},\n",
       "  {'Año': '2010', 'Contenido Free': '50.00%'},\n",
       "  {'Año': '2011', 'Contenido Free': '0.00%'},\n",
       "  {'Año': '2012', 'Contenido Free': '50.00%'},\n",
       "  {'Año': '2014', 'Contenido Free': '100.00%'},\n",
       "  {'Año': '2016', 'Contenido Free': '100.00%'},\n",
       "  {'Año': '2017', 'Contenido Free': '0.00%'}]}"
      ]
     },
     "execution_count": 19,
     "metadata": {},
     "output_type": "execute_result"
    }
   ],
   "source": [
    "def developer(developer):\n",
    "    consulta5['release_year']=consulta5['release_year'].astype(str)\n",
    "\n",
    "    dataDeveloper = consulta5[consulta5['developer']== developer]\n",
    "    itemsPearYear = dataDeveloper.groupby('release_year')['item_id'].nunique()\n",
    "    \n",
    "    cantidadItems = dataDeveloper.groupby('developer')['item_id'].nunique()\n",
    "    \n",
    "    itemsFreePearYear = dataDeveloper[dataDeveloper['price']==0].groupby('release_year')['item_id'].nunique()\n",
    "    porcentaje= (itemsFreePearYear/itemsPearYear)*100\n",
    "    \n",
    "    rowPercent = []\n",
    "    for anio in itemsPearYear.index:\n",
    "        \n",
    "        percentFree = porcentaje.get(anio)\n",
    "        \n",
    "        if np.isnan(percentFree):        \n",
    "            rowPercent.append({'Año': anio,'Contenido Free':'0.00%'})\n",
    "        \n",
    "        else:\n",
    "            rowPercent.append({'Año': anio,'Contenido Free':f\"{percentFree:.2f}%\"})\n",
    "\n",
    "    return {'Cantidad Items': str(cantidadItems.iloc[0]),'Porcentaje Contenido Free':rowPercent}\n",
    "developer('Valve')"
   ]
  }
 ],
 "metadata": {
  "kernelspec": {
   "display_name": "Python 3",
   "language": "python",
   "name": "python3"
  },
  "language_info": {
   "codemirror_mode": {
    "name": "ipython",
    "version": 3
   },
   "file_extension": ".py",
   "mimetype": "text/x-python",
   "name": "python",
   "nbconvert_exporter": "python",
   "pygments_lexer": "ipython3",
   "version": "3.11.3"
  },
  "orig_nbformat": 4
 },
 "nbformat": 4,
 "nbformat_minor": 2
}
