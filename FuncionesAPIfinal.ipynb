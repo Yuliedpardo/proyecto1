{
 "cells": [
  {
   "cell_type": "code",
   "execution_count": 1,
   "metadata": {},
   "outputs": [],
   "source": [
    "import pandas as pd"
   ]
  },
  {
   "cell_type": "code",
   "execution_count": 4,
   "metadata": {},
   "outputs": [],
   "source": [
    "#leemos el documento guardado en csv\n",
    "user_total= pd.read_csv(r\"consulta1.csv\")"
   ]
  },
  {
   "cell_type": "code",
   "execution_count": 5,
   "metadata": {},
   "outputs": [
    {
     "name": "stdout",
     "output_type": "stream",
     "text": [
      "User -2SV-vuLB-Kg:\n",
      "Dinero gastado: $427.5\n",
      "Porcentaje de recomendación: 1.0%\n",
      "Cantidad de items: 68.0\n"
     ]
    }
   ],
   "source": [
    "def userdata(user_id):\n",
    "    # Filtrar el DataFrame user_total por el user_id especificado\n",
    "    user_data = user_total[user_total['user_id'] == user_id]\n",
    "\n",
    "    # Obtener la cantidad de dinero gastado por el usuario\n",
    "    money_spent = user_data['price'].values[0]\n",
    "\n",
    "    # Obtener el porcentaje de recomendación\n",
    "    recommend_percentage = user_data['porcentaje'].values[0]\n",
    "\n",
    "    # Obtener la cantidad de items del usuario\n",
    "    items_count = user_data['items_count'].values[0]\n",
    "\n",
    "    return money_spent, recommend_percentage, items_count\n",
    "\n",
    "# Ejemplo de uso\n",
    "user_id = '-2SV-vuLB-Kg'\n",
    "money_spent, recommend_percentage, items_count = userdata(user_id)\n",
    "print(f\"User {user_id}:\")\n",
    "print(f\"Dinero gastado: ${money_spent}\")\n",
    "print(f\"Porcentaje de recomendación: {recommend_percentage}%\")\n",
    "print(f\"Cantidad de items: {items_count}\")"
   ]
  }
 ],
 "metadata": {
  "kernelspec": {
   "display_name": "Python 3",
   "language": "python",
   "name": "python3"
  },
  "language_info": {
   "codemirror_mode": {
    "name": "ipython",
    "version": 3
   },
   "file_extension": ".py",
   "mimetype": "text/x-python",
   "name": "python",
   "nbconvert_exporter": "python",
   "pygments_lexer": "ipython3",
   "version": "3.11.3"
  },
  "orig_nbformat": 4
 },
 "nbformat": 4,
 "nbformat_minor": 2
}
