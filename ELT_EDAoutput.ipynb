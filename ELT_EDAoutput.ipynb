{
 "cells": [
  {
   "cell_type": "markdown",
   "metadata": {},
   "source": [
    "Importar Librerias"
   ]
  },
  {
   "cell_type": "code",
   "execution_count": 24,
   "metadata": {},
   "outputs": [],
   "source": [
    "import pandas as pd\n",
    "import ast\n",
    "import numpy as np\n",
    "from ast import literal_eval\n",
    "import matplotlib.pyplot as plt\n",
    "import seaborn as sns"
   ]
  },
  {
   "cell_type": "markdown",
   "metadata": {},
   "source": [
    "Leemos el archivo JSON e importamos a un dataframe"
   ]
  },
  {
   "cell_type": "code",
   "execution_count": null,
   "metadata": {},
   "outputs": [],
   "source": [
    "rows = []\n",
    "\n",
    "with open ('australian_users_items.json', encoding='MacRoman') as f:\n",
    "    for line in f.readlines():\n",
    "        rows.append(ast.literal_eval(line))\n",
    "\n",
    "df_games_items = pd.DataFrame(rows)"
   ]
  },
  {
   "cell_type": "code",
   "execution_count": 25,
   "metadata": {},
   "outputs": [
    {
     "name": "stderr",
     "output_type": "stream",
     "text": [
      "C:\\Users\\TOCALACTEOS\\AppData\\Local\\Temp\\ipykernel_6980\\1857957644.py:1: DtypeWarning: Columns (0,1,2,3,4,5,6,7,8,9,12) have mixed types. Specify dtype option on import or set low_memory=False.\n",
      "  dfoutput= pd.read_csv(r\"output.csv\")\n"
     ]
    }
   ],
   "source": [
    "dfoutput= pd.read_csv(r\"output.csv\")"
   ]
  },
  {
   "cell_type": "markdown",
   "metadata": {},
   "source": [
    "verificamos el tipo de dato "
   ]
  },
  {
   "cell_type": "code",
   "execution_count": 26,
   "metadata": {},
   "outputs": [
    {
     "name": "stdout",
     "output_type": "stream",
     "text": [
      "<class 'pandas.core.frame.DataFrame'>\n",
      "RangeIndex: 120445 entries, 0 to 120444\n",
      "Data columns (total 13 columns):\n",
      " #   Column        Non-Null Count  Dtype  \n",
      "---  ------        --------------  -----  \n",
      " 0   publisher     24064 non-null  object \n",
      " 1   genres        28852 non-null  object \n",
      " 2   app_name      32133 non-null  object \n",
      " 3   title         30085 non-null  object \n",
      " 4   url           32135 non-null  object \n",
      " 5   release_date  30068 non-null  object \n",
      " 6   tags          31972 non-null  object \n",
      " 7   reviews_url   32133 non-null  object \n",
      " 8   specs         31465 non-null  object \n",
      " 9   price         30758 non-null  object \n",
      " 10  early_access  32135 non-null  float64\n",
      " 11  id            32133 non-null  float64\n",
      " 12  developer     28836 non-null  object \n",
      "dtypes: float64(2), object(11)\n",
      "memory usage: 11.9+ MB\n"
     ]
    }
   ],
   "source": [
    "dfoutput.info(1)"
   ]
  },
  {
   "cell_type": "markdown",
   "metadata": {},
   "source": [
    "verificamos filas duplicadas "
   ]
  },
  {
   "cell_type": "code",
   "execution_count": 27,
   "metadata": {},
   "outputs": [
    {
     "name": "stdout",
     "output_type": "stream",
     "text": [
      "Se encontraron 88309 filas duplicadas:\n",
      "      publisher genres app_name title  url release_date tags reviews_url  \\\n",
      "1           NaN    NaN      NaN   NaN  NaN          NaN  NaN         NaN   \n",
      "2           NaN    NaN      NaN   NaN  NaN          NaN  NaN         NaN   \n",
      "3           NaN    NaN      NaN   NaN  NaN          NaN  NaN         NaN   \n",
      "4           NaN    NaN      NaN   NaN  NaN          NaN  NaN         NaN   \n",
      "5           NaN    NaN      NaN   NaN  NaN          NaN  NaN         NaN   \n",
      "...         ...    ...      ...   ...  ...          ...  ...         ...   \n",
      "88305       NaN    NaN      NaN   NaN  NaN          NaN  NaN         NaN   \n",
      "88306       NaN    NaN      NaN   NaN  NaN          NaN  NaN         NaN   \n",
      "88307       NaN    NaN      NaN   NaN  NaN          NaN  NaN         NaN   \n",
      "88308       NaN    NaN      NaN   NaN  NaN          NaN  NaN         NaN   \n",
      "88309       NaN    NaN      NaN   NaN  NaN          NaN  NaN         NaN   \n",
      "\n",
      "      specs price  early_access  id developer  \n",
      "1       NaN   NaN           NaN NaN       NaN  \n",
      "2       NaN   NaN           NaN NaN       NaN  \n",
      "3       NaN   NaN           NaN NaN       NaN  \n",
      "4       NaN   NaN           NaN NaN       NaN  \n",
      "5       NaN   NaN           NaN NaN       NaN  \n",
      "...     ...   ...           ...  ..       ...  \n",
      "88305   NaN   NaN           NaN NaN       NaN  \n",
      "88306   NaN   NaN           NaN NaN       NaN  \n",
      "88307   NaN   NaN           NaN NaN       NaN  \n",
      "88308   NaN   NaN           NaN NaN       NaN  \n",
      "88309   NaN   NaN           NaN NaN       NaN  \n",
      "\n",
      "[88309 rows x 13 columns]\n"
     ]
    }
   ],
   "source": [
    "\n",
    "duplicados = dfoutput[dfoutput.duplicated()]\n",
    "\n",
    "cantidad_duplicados = len(duplicados)\n",
    "\n",
    "if cantidad_duplicados == 0:\n",
    "    print(\"No se encontraron filas duplicadas.\")\n",
    "else:\n",
    "    print(f\"Se encontraron {cantidad_duplicados} filas duplicadas:\")\n",
    "    print(duplicados)"
   ]
  },
  {
   "cell_type": "markdown",
   "metadata": {},
   "source": [
    "eliminamos filas duplcadas y nulas "
   ]
  },
  {
   "cell_type": "code",
   "execution_count": 28,
   "metadata": {},
   "outputs": [
    {
     "name": "stdout",
     "output_type": "stream",
     "text": [
      "DataFrame original:\n",
      "               publisher                                             genres  \\\n",
      "0                    NaN                                                NaN   \n",
      "88310          Kotoshiro  ['Action', 'Casual', 'Indie', 'Simulation', 'S...   \n",
      "88311   Making Fun, Inc.       ['Free to Play', 'Indie', 'RPG', 'Strategy']   \n",
      "88312       Poolians.com  ['Casual', 'Free to Play', 'Indie', 'Simulatio...   \n",
      "88313               彼岸领域                  ['Action', 'Adventure', 'Casual']   \n",
      "...                  ...                                                ...   \n",
      "120440   Ghost_RUS Games      ['Casual', 'Indie', 'Simulation', 'Strategy']   \n",
      "120441            Sacada                    ['Casual', 'Indie', 'Strategy']   \n",
      "120442      Laush Studio                  ['Indie', 'Racing', 'Simulation']   \n",
      "120443          SIXNAILS                                ['Casual', 'Indie']   \n",
      "120444               NaN                                                NaN   \n",
      "\n",
      "                        app_name                     title  \\\n",
      "0                            NaN                       NaN   \n",
      "88310        Lost Summoner Kitty       Lost Summoner Kitty   \n",
      "88311                  Ironbound                 Ironbound   \n",
      "88312    Real Pool 3D - Poolians   Real Pool 3D - Poolians   \n",
      "88313                    弹炸人2222                   弹炸人2222   \n",
      "...                          ...                       ...   \n",
      "120440            Colony On Mars            Colony On Mars   \n",
      "120441  LOGistICAL: South Africa  LOGistICAL: South Africa   \n",
      "120442             Russian Roads             Russian Roads   \n",
      "120443       EXIT 2 - Directions       EXIT 2 - Directions   \n",
      "120444               Maze Run VR                       NaN   \n",
      "\n",
      "                                                      url release_date  \\\n",
      "0                                                     NaN          NaN   \n",
      "88310   http://store.steampowered.com/app/761140/Lost_...   2018-01-04   \n",
      "88311   http://store.steampowered.com/app/643980/Ironb...   2018-01-04   \n",
      "88312   http://store.steampowered.com/app/670290/Real_...   2017-07-24   \n",
      "88313      http://store.steampowered.com/app/767400/2222/   2017-12-07   \n",
      "...                                                   ...          ...   \n",
      "120440  http://store.steampowered.com/app/773640/Colon...   2018-01-04   \n",
      "120441  http://store.steampowered.com/app/733530/LOGis...   2018-01-04   \n",
      "120442  http://store.steampowered.com/app/610660/Russi...   2018-01-04   \n",
      "120443  http://store.steampowered.com/app/658870/EXIT_...   2017-09-02   \n",
      "120444  http://store.steampowered.com/app/681550/Maze_...          NaN   \n",
      "\n",
      "                                                     tags  \\\n",
      "0                                                     NaN   \n",
      "88310   ['Strategy', 'Action', 'Indie', 'Casual', 'Sim...   \n",
      "88311   ['Free to Play', 'Strategy', 'Indie', 'RPG', '...   \n",
      "88312   ['Free to Play', 'Simulation', 'Sports', 'Casu...   \n",
      "88313                   ['Action', 'Adventure', 'Casual']   \n",
      "...                                                   ...   \n",
      "120440      ['Strategy', 'Indie', 'Casual', 'Simulation']   \n",
      "120441                    ['Strategy', 'Indie', 'Casual']   \n",
      "120442                  ['Indie', 'Simulation', 'Racing']   \n",
      "120443  ['Indie', 'Casual', 'Puzzle', 'Singleplayer', ...   \n",
      "120444  ['Early Access', 'Adventure', 'Indie', 'Action...   \n",
      "\n",
      "                                              reviews_url  \\\n",
      "0                                                     NaN   \n",
      "88310   http://steamcommunity.com/app/761140/reviews/?...   \n",
      "88311   http://steamcommunity.com/app/643980/reviews/?...   \n",
      "88312   http://steamcommunity.com/app/670290/reviews/?...   \n",
      "88313   http://steamcommunity.com/app/767400/reviews/?...   \n",
      "...                                                   ...   \n",
      "120440  http://steamcommunity.com/app/773640/reviews/?...   \n",
      "120441  http://steamcommunity.com/app/733530/reviews/?...   \n",
      "120442  http://steamcommunity.com/app/610660/reviews/?...   \n",
      "120443  http://steamcommunity.com/app/658870/reviews/?...   \n",
      "120444  http://steamcommunity.com/app/681550/reviews/?...   \n",
      "\n",
      "                                                    specs         price  \\\n",
      "0                                                     NaN           NaN   \n",
      "88310                                   ['Single-player']          4.99   \n",
      "88311   ['Single-player', 'Multi-player', 'Online Mult...  Free To Play   \n",
      "88312   ['Single-player', 'Multi-player', 'Online Mult...  Free to Play   \n",
      "88313                                   ['Single-player']          0.99   \n",
      "...                                                   ...           ...   \n",
      "120440            ['Single-player', 'Steam Achievements']          1.99   \n",
      "120441  ['Single-player', 'Steam Achievements', 'Steam...          4.99   \n",
      "120442  ['Single-player', 'Steam Achievements', 'Steam...          1.99   \n",
      "120443  ['Single-player', 'Steam Achievements', 'Steam...          4.99   \n",
      "120444  ['Single-player', 'Stats', 'Steam Leaderboards...          4.99   \n",
      "\n",
      "        early_access        id                 developer  \n",
      "0                NaN       NaN                       NaN  \n",
      "88310            0.0  761140.0                 Kotoshiro  \n",
      "88311            0.0  643980.0          Secret Level SRL  \n",
      "88312            0.0  670290.0              Poolians.com  \n",
      "88313            0.0  767400.0                      彼岸领域  \n",
      "...              ...       ...                       ...  \n",
      "120440           0.0  773640.0        Nikita \"Ghost_RUS\"  \n",
      "120441           0.0  733530.0                    Sacada  \n",
      "120442           0.0  610660.0  Laush Dmitriy Sergeevich  \n",
      "120443           0.0  658870.0             xropi,stev3ns  \n",
      "120444           1.0  681550.0                       NaN  \n",
      "\n",
      "[32136 rows x 13 columns]\n",
      "\n",
      "DataFrame sin filas duplicadas:\n",
      "               publisher                                             genres  \\\n",
      "0                    NaN                                                NaN   \n",
      "88310          Kotoshiro  ['Action', 'Casual', 'Indie', 'Simulation', 'S...   \n",
      "88311   Making Fun, Inc.       ['Free to Play', 'Indie', 'RPG', 'Strategy']   \n",
      "88312       Poolians.com  ['Casual', 'Free to Play', 'Indie', 'Simulatio...   \n",
      "88313               彼岸领域                  ['Action', 'Adventure', 'Casual']   \n",
      "...                  ...                                                ...   \n",
      "120440   Ghost_RUS Games      ['Casual', 'Indie', 'Simulation', 'Strategy']   \n",
      "120441            Sacada                    ['Casual', 'Indie', 'Strategy']   \n",
      "120442      Laush Studio                  ['Indie', 'Racing', 'Simulation']   \n",
      "120443          SIXNAILS                                ['Casual', 'Indie']   \n",
      "120444               NaN                                                NaN   \n",
      "\n",
      "                        app_name                     title  \\\n",
      "0                            NaN                       NaN   \n",
      "88310        Lost Summoner Kitty       Lost Summoner Kitty   \n",
      "88311                  Ironbound                 Ironbound   \n",
      "88312    Real Pool 3D - Poolians   Real Pool 3D - Poolians   \n",
      "88313                    弹炸人2222                   弹炸人2222   \n",
      "...                          ...                       ...   \n",
      "120440            Colony On Mars            Colony On Mars   \n",
      "120441  LOGistICAL: South Africa  LOGistICAL: South Africa   \n",
      "120442             Russian Roads             Russian Roads   \n",
      "120443       EXIT 2 - Directions       EXIT 2 - Directions   \n",
      "120444               Maze Run VR                       NaN   \n",
      "\n",
      "                                                      url release_date  \\\n",
      "0                                                     NaN          NaN   \n",
      "88310   http://store.steampowered.com/app/761140/Lost_...   2018-01-04   \n",
      "88311   http://store.steampowered.com/app/643980/Ironb...   2018-01-04   \n",
      "88312   http://store.steampowered.com/app/670290/Real_...   2017-07-24   \n",
      "88313      http://store.steampowered.com/app/767400/2222/   2017-12-07   \n",
      "...                                                   ...          ...   \n",
      "120440  http://store.steampowered.com/app/773640/Colon...   2018-01-04   \n",
      "120441  http://store.steampowered.com/app/733530/LOGis...   2018-01-04   \n",
      "120442  http://store.steampowered.com/app/610660/Russi...   2018-01-04   \n",
      "120443  http://store.steampowered.com/app/658870/EXIT_...   2017-09-02   \n",
      "120444  http://store.steampowered.com/app/681550/Maze_...          NaN   \n",
      "\n",
      "                                                     tags  \\\n",
      "0                                                     NaN   \n",
      "88310   ['Strategy', 'Action', 'Indie', 'Casual', 'Sim...   \n",
      "88311   ['Free to Play', 'Strategy', 'Indie', 'RPG', '...   \n",
      "88312   ['Free to Play', 'Simulation', 'Sports', 'Casu...   \n",
      "88313                   ['Action', 'Adventure', 'Casual']   \n",
      "...                                                   ...   \n",
      "120440      ['Strategy', 'Indie', 'Casual', 'Simulation']   \n",
      "120441                    ['Strategy', 'Indie', 'Casual']   \n",
      "120442                  ['Indie', 'Simulation', 'Racing']   \n",
      "120443  ['Indie', 'Casual', 'Puzzle', 'Singleplayer', ...   \n",
      "120444  ['Early Access', 'Adventure', 'Indie', 'Action...   \n",
      "\n",
      "                                              reviews_url  \\\n",
      "0                                                     NaN   \n",
      "88310   http://steamcommunity.com/app/761140/reviews/?...   \n",
      "88311   http://steamcommunity.com/app/643980/reviews/?...   \n",
      "88312   http://steamcommunity.com/app/670290/reviews/?...   \n",
      "88313   http://steamcommunity.com/app/767400/reviews/?...   \n",
      "...                                                   ...   \n",
      "120440  http://steamcommunity.com/app/773640/reviews/?...   \n",
      "120441  http://steamcommunity.com/app/733530/reviews/?...   \n",
      "120442  http://steamcommunity.com/app/610660/reviews/?...   \n",
      "120443  http://steamcommunity.com/app/658870/reviews/?...   \n",
      "120444  http://steamcommunity.com/app/681550/reviews/?...   \n",
      "\n",
      "                                                    specs         price  \\\n",
      "0                                                     NaN           NaN   \n",
      "88310                                   ['Single-player']          4.99   \n",
      "88311   ['Single-player', 'Multi-player', 'Online Mult...  Free To Play   \n",
      "88312   ['Single-player', 'Multi-player', 'Online Mult...  Free to Play   \n",
      "88313                                   ['Single-player']          0.99   \n",
      "...                                                   ...           ...   \n",
      "120440            ['Single-player', 'Steam Achievements']          1.99   \n",
      "120441  ['Single-player', 'Steam Achievements', 'Steam...          4.99   \n",
      "120442  ['Single-player', 'Steam Achievements', 'Steam...          1.99   \n",
      "120443  ['Single-player', 'Steam Achievements', 'Steam...          4.99   \n",
      "120444  ['Single-player', 'Stats', 'Steam Leaderboards...          4.99   \n",
      "\n",
      "        early_access        id                 developer  \n",
      "0                NaN       NaN                       NaN  \n",
      "88310            0.0  761140.0                 Kotoshiro  \n",
      "88311            0.0  643980.0          Secret Level SRL  \n",
      "88312            0.0  670290.0              Poolians.com  \n",
      "88313            0.0  767400.0                      彼岸领域  \n",
      "...              ...       ...                       ...  \n",
      "120440           0.0  773640.0        Nikita \"Ghost_RUS\"  \n",
      "120441           0.0  733530.0                    Sacada  \n",
      "120442           0.0  610660.0  Laush Dmitriy Sergeevich  \n",
      "120443           0.0  658870.0             xropi,stev3ns  \n",
      "120444           1.0  681550.0                       NaN  \n",
      "\n",
      "[32136 rows x 13 columns]\n"
     ]
    }
   ],
   "source": [
    "# Eliminar filas duplicadas\n",
    "dfoutput = dfoutput.drop_duplicates()\n",
    "\n",
    "print(\"DataFrame original:\")\n",
    "print(dfoutput)\n",
    "print(\"\\nDataFrame sin filas duplicadas:\")\n",
    "print(dfoutput)"
   ]
  },
  {
   "cell_type": "markdown",
   "metadata": {},
   "source": [
    "verificamos el tipo de dato"
   ]
  },
  {
   "cell_type": "code",
   "execution_count": 29,
   "metadata": {},
   "outputs": [
    {
     "name": "stdout",
     "output_type": "stream",
     "text": [
      "publisher  (nulos) =  8072\n",
      "genres  (nulos) =  3284\n",
      "app_name  (nulos) =  3\n",
      "title  (nulos) =  2051\n",
      "url  (nulos) =  1\n",
      "release_date  (nulos) =  2068\n",
      "tags  (nulos) =  164\n",
      "reviews_url  (nulos) =  3\n",
      "specs  (nulos) =  671\n",
      "price  (nulos) =  1378\n",
      "early_access  (nulos) =  1\n",
      "id  (nulos) =  3\n",
      "developer  (nulos) =  3300\n",
      "\n",
      "filas completamente nulas:  1\n",
      "    nombre_campo                        tipo_datos  no_nulos_%  nulos_%\n",
      "0      publisher  [<class 'float'>, <class 'str'>]       74.88    25.12\n",
      "1         genres  [<class 'float'>, <class 'str'>]       89.78    10.22\n",
      "2       app_name  [<class 'float'>, <class 'str'>]       99.99     0.01\n",
      "3          title  [<class 'float'>, <class 'str'>]       93.62     6.38\n",
      "4            url  [<class 'float'>, <class 'str'>]      100.00     0.00\n",
      "5   release_date  [<class 'float'>, <class 'str'>]       93.56     6.44\n",
      "6           tags  [<class 'float'>, <class 'str'>]       99.49     0.51\n",
      "7    reviews_url  [<class 'float'>, <class 'str'>]       99.99     0.01\n",
      "8          specs  [<class 'float'>, <class 'str'>]       97.91     2.09\n",
      "9          price  [<class 'float'>, <class 'str'>]       95.71     4.29\n",
      "10  early_access                 [<class 'float'>]      100.00     0.00\n",
      "11            id                 [<class 'float'>]       99.99     0.01\n",
      "12     developer  [<class 'float'>, <class 'str'>]       89.73    10.27\n"
     ]
    }
   ],
   "source": [
    "\n",
    "def verificar_tipo_datos(dfoutput):\n",
    "    mi_dict = {\"nombre_campo\": [], \"tipo_datos\": [], \"no_nulos_%\": [], \"nulos_%\": []}\n",
    "    for columna in dfoutput.columns:\n",
    "        porcentaje_no_nulos = (dfoutput[columna].count() / len(dfoutput)) * 100\n",
    "        mi_dict[\"nombre_campo\"].append(columna)\n",
    "        mi_dict[\"tipo_datos\"].append(dfoutput[columna].apply(type).unique())\n",
    "        mi_dict[\"no_nulos_%\"].append(round(porcentaje_no_nulos, 2))\n",
    "        mi_dict[\"nulos_%\"].append(round(100-porcentaje_no_nulos, 2))\n",
    "    df_info = pd.DataFrame(mi_dict)\n",
    "    for columna in dfoutput.columns:\n",
    "        print(columna, \" (nulos) = \", dfoutput[columna].isnull().sum())\n",
    "    print(\"\\nfilas completamente nulas: \", dfoutput.isna().all(axis=1).sum())\n",
    "    return df_info \n",
    "df_info = verificar_tipo_datos(dfoutput)\n",
    "print(df_info)"
   ]
  },
  {
   "cell_type": "markdown",
   "metadata": {},
   "source": [
    "Se eliminan los registros nulos en la columna \"id\""
   ]
  },
  {
   "cell_type": "code",
   "execution_count": 30,
   "metadata": {},
   "outputs": [],
   "source": [
    "dfoutput.dropna(subset=['id'], inplace=True)"
   ]
  },
  {
   "cell_type": "markdown",
   "metadata": {},
   "source": [
    " Convertir la columna \"id\" de float a int"
   ]
  },
  {
   "cell_type": "code",
   "execution_count": 31,
   "metadata": {},
   "outputs": [],
   "source": [
    "# Convertir la columna \"id\" de float a int\n",
    "dfoutput[\"id\"] = dfoutput[\"id\"].astype(int)\n",
    "\n",
    "# Convertir la columna \"id\" de int a str\n",
    "dfoutput[\"id\"] = dfoutput[\"id\"].astype(str)"
   ]
  },
  {
   "cell_type": "markdown",
   "metadata": {},
   "source": [
    "Se reemplazan los valores nulos para las columnas con variables categoricas con \"sin_dato\""
   ]
  },
  {
   "cell_type": "code",
   "execution_count": 32,
   "metadata": {},
   "outputs": [],
   "source": [
    "columns_to_fill = [\"genres\", \"app_name\", \"tags\", \"specs\", \"developer\", \"price\"]\n",
    "\n",
    "dfoutput[columns_to_fill] = dfoutput[columns_to_fill].fillna(\"sin_dato\")"
   ]
  },
  {
   "cell_type": "code",
   "execution_count": 33,
   "metadata": {},
   "outputs": [
    {
     "data": {
      "text/html": [
       "<div>\n",
       "<style scoped>\n",
       "    .dataframe tbody tr th:only-of-type {\n",
       "        vertical-align: middle;\n",
       "    }\n",
       "\n",
       "    .dataframe tbody tr th {\n",
       "        vertical-align: top;\n",
       "    }\n",
       "\n",
       "    .dataframe thead th {\n",
       "        text-align: right;\n",
       "    }\n",
       "</style>\n",
       "<table border=\"1\" class=\"dataframe\">\n",
       "  <thead>\n",
       "    <tr style=\"text-align: right;\">\n",
       "      <th></th>\n",
       "      <th>publisher</th>\n",
       "      <th>genres</th>\n",
       "      <th>app_name</th>\n",
       "      <th>title</th>\n",
       "      <th>url</th>\n",
       "      <th>release_date</th>\n",
       "      <th>tags</th>\n",
       "      <th>reviews_url</th>\n",
       "      <th>specs</th>\n",
       "      <th>price</th>\n",
       "      <th>early_access</th>\n",
       "      <th>id</th>\n",
       "      <th>developer</th>\n",
       "    </tr>\n",
       "  </thead>\n",
       "  <tbody>\n",
       "    <tr>\n",
       "      <th>88310</th>\n",
       "      <td>Kotoshiro</td>\n",
       "      <td>['Action', 'Casual', 'Indie', 'Simulation', 'S...</td>\n",
       "      <td>Lost Summoner Kitty</td>\n",
       "      <td>Lost Summoner Kitty</td>\n",
       "      <td>http://store.steampowered.com/app/761140/Lost_...</td>\n",
       "      <td>2018-01-04</td>\n",
       "      <td>['Strategy', 'Action', 'Indie', 'Casual', 'Sim...</td>\n",
       "      <td>http://steamcommunity.com/app/761140/reviews/?...</td>\n",
       "      <td>['Single-player']</td>\n",
       "      <td>4.99</td>\n",
       "      <td>0.0</td>\n",
       "      <td>761140</td>\n",
       "      <td>Kotoshiro</td>\n",
       "    </tr>\n",
       "  </tbody>\n",
       "</table>\n",
       "</div>"
      ],
      "text/plain": [
       "       publisher                                             genres  \\\n",
       "88310  Kotoshiro  ['Action', 'Casual', 'Indie', 'Simulation', 'S...   \n",
       "\n",
       "                  app_name                title  \\\n",
       "88310  Lost Summoner Kitty  Lost Summoner Kitty   \n",
       "\n",
       "                                                     url release_date  \\\n",
       "88310  http://store.steampowered.com/app/761140/Lost_...   2018-01-04   \n",
       "\n",
       "                                                    tags  \\\n",
       "88310  ['Strategy', 'Action', 'Indie', 'Casual', 'Sim...   \n",
       "\n",
       "                                             reviews_url              specs  \\\n",
       "88310  http://steamcommunity.com/app/761140/reviews/?...  ['Single-player']   \n",
       "\n",
       "      price  early_access      id  developer  \n",
       "88310  4.99           0.0  761140  Kotoshiro  "
      ]
     },
     "execution_count": 33,
     "metadata": {},
     "output_type": "execute_result"
    }
   ],
   "source": [
    "dfoutput.head(1)"
   ]
  },
  {
   "cell_type": "markdown",
   "metadata": {},
   "source": [
    "cambiamos el formato de la columna price"
   ]
  },
  {
   "cell_type": "code",
   "execution_count": 34,
   "metadata": {},
   "outputs": [],
   "source": [
    "dfoutput[\"price_num\"] = pd.to_numeric(dfoutput[\"price\"], errors='coerce')\n",
    "dfoutput[\"price_num\"] = pd.to_numeric(dfoutput[\"price_num\"], errors='coerce')\n",
    "dfoutput[\"price_num\"] = dfoutput[\"price_num\"].fillna(0)"
   ]
  },
  {
   "cell_type": "markdown",
   "metadata": {},
   "source": [
    " Se redondean los valores en la columna \"price_num\" a dos decimales"
   ]
  },
  {
   "cell_type": "code",
   "execution_count": 35,
   "metadata": {},
   "outputs": [],
   "source": [
    "\n",
    "dfoutput[\"price_num\"] = dfoutput[\"price_num\"].round(2)"
   ]
  },
  {
   "cell_type": "markdown",
   "metadata": {},
   "source": [
    " Se elimina la columna \"price\" del DataFrame\n"
   ]
  },
  {
   "cell_type": "code",
   "execution_count": 37,
   "metadata": {},
   "outputs": [],
   "source": [
    "dfoutput.drop(columns=[\"price\"], inplace=True)"
   ]
  },
  {
   "cell_type": "markdown",
   "metadata": {},
   "source": [
    " Se renombra la columna \"price_num\" a \"price\"\n"
   ]
  },
  {
   "cell_type": "code",
   "execution_count": 38,
   "metadata": {},
   "outputs": [],
   "source": [
    "\n",
    "dfoutput.rename(columns={\"price_num\": \"price\"}, inplace=True)"
   ]
  },
  {
   "cell_type": "code",
   "execution_count": 39,
   "metadata": {},
   "outputs": [
    {
     "data": {
      "text/html": [
       "<div>\n",
       "<style scoped>\n",
       "    .dataframe tbody tr th:only-of-type {\n",
       "        vertical-align: middle;\n",
       "    }\n",
       "\n",
       "    .dataframe tbody tr th {\n",
       "        vertical-align: top;\n",
       "    }\n",
       "\n",
       "    .dataframe thead th {\n",
       "        text-align: right;\n",
       "    }\n",
       "</style>\n",
       "<table border=\"1\" class=\"dataframe\">\n",
       "  <thead>\n",
       "    <tr style=\"text-align: right;\">\n",
       "      <th></th>\n",
       "      <th>publisher</th>\n",
       "      <th>genres</th>\n",
       "      <th>app_name</th>\n",
       "      <th>title</th>\n",
       "      <th>url</th>\n",
       "      <th>release_date</th>\n",
       "      <th>tags</th>\n",
       "      <th>reviews_url</th>\n",
       "      <th>specs</th>\n",
       "      <th>early_access</th>\n",
       "      <th>id</th>\n",
       "      <th>developer</th>\n",
       "      <th>price</th>\n",
       "    </tr>\n",
       "  </thead>\n",
       "  <tbody>\n",
       "    <tr>\n",
       "      <th>88310</th>\n",
       "      <td>Kotoshiro</td>\n",
       "      <td>['Action', 'Casual', 'Indie', 'Simulation', 'S...</td>\n",
       "      <td>Lost Summoner Kitty</td>\n",
       "      <td>Lost Summoner Kitty</td>\n",
       "      <td>http://store.steampowered.com/app/761140/Lost_...</td>\n",
       "      <td>2018-01-04</td>\n",
       "      <td>['Strategy', 'Action', 'Indie', 'Casual', 'Sim...</td>\n",
       "      <td>http://steamcommunity.com/app/761140/reviews/?...</td>\n",
       "      <td>['Single-player']</td>\n",
       "      <td>0.0</td>\n",
       "      <td>761140</td>\n",
       "      <td>Kotoshiro</td>\n",
       "      <td>4.99</td>\n",
       "    </tr>\n",
       "  </tbody>\n",
       "</table>\n",
       "</div>"
      ],
      "text/plain": [
       "       publisher                                             genres  \\\n",
       "88310  Kotoshiro  ['Action', 'Casual', 'Indie', 'Simulation', 'S...   \n",
       "\n",
       "                  app_name                title  \\\n",
       "88310  Lost Summoner Kitty  Lost Summoner Kitty   \n",
       "\n",
       "                                                     url release_date  \\\n",
       "88310  http://store.steampowered.com/app/761140/Lost_...   2018-01-04   \n",
       "\n",
       "                                                    tags  \\\n",
       "88310  ['Strategy', 'Action', 'Indie', 'Casual', 'Sim...   \n",
       "\n",
       "                                             reviews_url              specs  \\\n",
       "88310  http://steamcommunity.com/app/761140/reviews/?...  ['Single-player']   \n",
       "\n",
       "       early_access      id  developer  price  \n",
       "88310           0.0  761140  Kotoshiro   4.99  "
      ]
     },
     "execution_count": 39,
     "metadata": {},
     "output_type": "execute_result"
    }
   ],
   "source": [
    "dfoutput.head(1)"
   ]
  },
  {
   "cell_type": "code",
   "execution_count": 21,
   "metadata": {},
   "outputs": [],
   "source": [
    "\n",
    "# Cambiar el nombre de la columna\n",
    "dfoutput.rename(columns={'price_num': 'price'}, inplace=True)\n",
    "\n"
   ]
  },
  {
   "cell_type": "code",
   "execution_count": 22,
   "metadata": {},
   "outputs": [
    {
     "data": {
      "text/html": [
       "<div>\n",
       "<style scoped>\n",
       "    .dataframe tbody tr th:only-of-type {\n",
       "        vertical-align: middle;\n",
       "    }\n",
       "\n",
       "    .dataframe tbody tr th {\n",
       "        vertical-align: top;\n",
       "    }\n",
       "\n",
       "    .dataframe thead th {\n",
       "        text-align: right;\n",
       "    }\n",
       "</style>\n",
       "<table border=\"1\" class=\"dataframe\">\n",
       "  <thead>\n",
       "    <tr style=\"text-align: right;\">\n",
       "      <th></th>\n",
       "      <th>publisher</th>\n",
       "      <th>genres</th>\n",
       "      <th>app_name</th>\n",
       "      <th>title</th>\n",
       "      <th>url</th>\n",
       "      <th>release_date</th>\n",
       "      <th>tags</th>\n",
       "      <th>reviews_url</th>\n",
       "      <th>specs</th>\n",
       "      <th>price</th>\n",
       "      <th>early_access</th>\n",
       "      <th>id</th>\n",
       "      <th>developer</th>\n",
       "      <th>price</th>\n",
       "    </tr>\n",
       "  </thead>\n",
       "  <tbody>\n",
       "    <tr>\n",
       "      <th>88310</th>\n",
       "      <td>Kotoshiro</td>\n",
       "      <td>['Action', 'Casual', 'Indie', 'Simulation', 'S...</td>\n",
       "      <td>Lost Summoner Kitty</td>\n",
       "      <td>Lost Summoner Kitty</td>\n",
       "      <td>http://store.steampowered.com/app/761140/Lost_...</td>\n",
       "      <td>2018-01-04</td>\n",
       "      <td>['Strategy', 'Action', 'Indie', 'Casual', 'Sim...</td>\n",
       "      <td>http://steamcommunity.com/app/761140/reviews/?...</td>\n",
       "      <td>['Single-player']</td>\n",
       "      <td>4.99</td>\n",
       "      <td>0.0</td>\n",
       "      <td>761140</td>\n",
       "      <td>Kotoshiro</td>\n",
       "      <td>4.99</td>\n",
       "    </tr>\n",
       "  </tbody>\n",
       "</table>\n",
       "</div>"
      ],
      "text/plain": [
       "       publisher                                             genres  \\\n",
       "88310  Kotoshiro  ['Action', 'Casual', 'Indie', 'Simulation', 'S...   \n",
       "\n",
       "                  app_name                title  \\\n",
       "88310  Lost Summoner Kitty  Lost Summoner Kitty   \n",
       "\n",
       "                                                     url release_date  \\\n",
       "88310  http://store.steampowered.com/app/761140/Lost_...   2018-01-04   \n",
       "\n",
       "                                                    tags  \\\n",
       "88310  ['Strategy', 'Action', 'Indie', 'Casual', 'Sim...   \n",
       "\n",
       "                                             reviews_url              specs  \\\n",
       "88310  http://steamcommunity.com/app/761140/reviews/?...  ['Single-player']   \n",
       "\n",
       "       price  early_access      id  developer  price  \n",
       "88310   4.99           0.0  761140  Kotoshiro   4.99  "
      ]
     },
     "execution_count": 22,
     "metadata": {},
     "output_type": "execute_result"
    }
   ],
   "source": [
    "dfoutput.head(1)"
   ]
  },
  {
   "cell_type": "code",
   "execution_count": 40,
   "metadata": {},
   "outputs": [
    {
     "name": "stdout",
     "output_type": "stream",
     "text": [
      "<class 'pandas.core.frame.DataFrame'>\n",
      "Index: 32133 entries, 88310 to 120444\n",
      "Data columns (total 13 columns):\n",
      " #   Column        Non-Null Count  Dtype  \n",
      "---  ------        --------------  -----  \n",
      " 0   publisher     24063 non-null  object \n",
      " 1   genres        32133 non-null  object \n",
      " 2   app_name      32133 non-null  object \n",
      " 3   title         30084 non-null  object \n",
      " 4   url           32133 non-null  object \n",
      " 5   release_date  30067 non-null  object \n",
      " 6   tags          32133 non-null  object \n",
      " 7   reviews_url   32133 non-null  object \n",
      " 8   specs         32133 non-null  object \n",
      " 9   early_access  32133 non-null  float64\n",
      " 10  id            32133 non-null  object \n",
      " 11  developer     32133 non-null  object \n",
      " 12  price         32133 non-null  float64\n",
      "dtypes: float64(2), object(11)\n",
      "memory usage: 3.4+ MB\n"
     ]
    }
   ],
   "source": [
    "dfoutput.info()"
   ]
  },
  {
   "cell_type": "markdown",
   "metadata": {},
   "source": [
    "Convertimos el formato de relase_date a fecha"
   ]
  },
  {
   "cell_type": "code",
   "execution_count": 46,
   "metadata": {},
   "outputs": [],
   "source": [
    "import pandas as pd\n",
    "\n",
    "# Supongamos que tienes un DataFrame llamado 'review_desanidado_date' con una columna 'posted'\n",
    "# que contiene fechas en el formato 'November 5 2011'\n",
    "\n",
    "# Asegúrate de que la columna 'posted' sea de tipo string\n",
    "dfoutput['release_date'] = dfoutput['release_date'].astype(str)\n",
    "\n",
    "# Elimina espacios adicionales al principio y al final de cada fecha\n",
    "dfoutput['release_date'] = dfoutput['release_date'].str.strip()\n",
    "\n",
    "# Intenta convertir las fechas al formato datetime, manejando los errores como valores nulos\n",
    "dfoutput['release_date'] = pd.to_datetime(dfoutput['release_date'], errors='coerce')\n",
    "\n",
    "# Filtra las filas con fechas no nulas\n",
    "dfoutput = dfoutput.dropna(subset=['release_date'])\n",
    "\n",
    "# Luego, convierte las fechas al formato deseado (año/mes/día) como cadenas de texto\n",
    "dfoutput['release_date'] = dfoutput['release_date'].dt.strftime('%Y/%m/%d')\n"
   ]
  },
  {
   "cell_type": "code",
   "execution_count": 47,
   "metadata": {},
   "outputs": [
    {
     "name": "stdout",
     "output_type": "stream",
     "text": [
      "<class 'pandas.core.frame.DataFrame'>\n",
      "Index: 29782 entries, 88310 to 120443\n",
      "Data columns (total 13 columns):\n",
      " #   Column        Non-Null Count  Dtype  \n",
      "---  ------        --------------  -----  \n",
      " 0   publisher     23773 non-null  object \n",
      " 1   genres        29782 non-null  object \n",
      " 2   app_name      29782 non-null  object \n",
      " 3   title         29781 non-null  object \n",
      " 4   url           29782 non-null  object \n",
      " 5   release_date  29782 non-null  object \n",
      " 6   tags          29782 non-null  object \n",
      " 7   reviews_url   29782 non-null  object \n",
      " 8   specs         29782 non-null  object \n",
      " 9   early_access  29782 non-null  float64\n",
      " 10  id            29782 non-null  object \n",
      " 11  developer     29782 non-null  object \n",
      " 12  price         29782 non-null  float64\n",
      "dtypes: float64(2), object(11)\n",
      "memory usage: 3.2+ MB\n"
     ]
    }
   ],
   "source": [
    "dfoutput.info()"
   ]
  },
  {
   "cell_type": "code",
   "execution_count": 49,
   "metadata": {},
   "outputs": [],
   "source": [
    "import pandas as pd\n",
    "\n",
    "# Convertir la columna 'release_date' a datetime\n",
    "dfoutput['release_date'] = pd.to_datetime(dfoutput['release_date'])\n",
    "\n",
    "# Crear una nueva columna 'release_year' y extraer el año de 'release_date'\n",
    "dfoutput['release_year'] = dfoutput['release_date'].dt.year\n",
    "\n"
   ]
  },
  {
   "cell_type": "code",
   "execution_count": 50,
   "metadata": {},
   "outputs": [
    {
     "name": "stdout",
     "output_type": "stream",
     "text": [
      "<class 'pandas.core.frame.DataFrame'>\n",
      "Index: 29782 entries, 88310 to 120443\n",
      "Data columns (total 14 columns):\n",
      " #   Column        Non-Null Count  Dtype         \n",
      "---  ------        --------------  -----         \n",
      " 0   publisher     23773 non-null  object        \n",
      " 1   genres        29782 non-null  object        \n",
      " 2   app_name      29782 non-null  object        \n",
      " 3   title         29781 non-null  object        \n",
      " 4   url           29782 non-null  object        \n",
      " 5   release_date  29782 non-null  datetime64[ns]\n",
      " 6   tags          29782 non-null  object        \n",
      " 7   reviews_url   29782 non-null  object        \n",
      " 8   specs         29782 non-null  object        \n",
      " 9   early_access  29782 non-null  float64       \n",
      " 10  id            29782 non-null  object        \n",
      " 11  developer     29782 non-null  object        \n",
      " 12  price         29782 non-null  float64       \n",
      " 13  release_year  29782 non-null  int32         \n",
      "dtypes: datetime64[ns](1), float64(2), int32(1), object(10)\n",
      "memory usage: 3.3+ MB\n"
     ]
    }
   ],
   "source": [
    "dfoutput.info(1)"
   ]
  },
  {
   "cell_type": "markdown",
   "metadata": {},
   "source": [
    "extraemos el año de la columna relase_date"
   ]
  },
  {
   "cell_type": "code",
   "execution_count": 51,
   "metadata": {},
   "outputs": [],
   "source": [
    "\n",
    "# Crear una nueva columna 'release_year' y extraer el año de 'release_date'\n",
    "dfoutput['release_year'] = pd.to_datetime(dfoutput['release_date']).dt.year\n",
    "\n"
   ]
  },
  {
   "cell_type": "code",
   "execution_count": 52,
   "metadata": {},
   "outputs": [
    {
     "data": {
      "text/html": [
       "<div>\n",
       "<style scoped>\n",
       "    .dataframe tbody tr th:only-of-type {\n",
       "        vertical-align: middle;\n",
       "    }\n",
       "\n",
       "    .dataframe tbody tr th {\n",
       "        vertical-align: top;\n",
       "    }\n",
       "\n",
       "    .dataframe thead th {\n",
       "        text-align: right;\n",
       "    }\n",
       "</style>\n",
       "<table border=\"1\" class=\"dataframe\">\n",
       "  <thead>\n",
       "    <tr style=\"text-align: right;\">\n",
       "      <th></th>\n",
       "      <th>publisher</th>\n",
       "      <th>genres</th>\n",
       "      <th>app_name</th>\n",
       "      <th>title</th>\n",
       "      <th>url</th>\n",
       "      <th>release_date</th>\n",
       "      <th>tags</th>\n",
       "      <th>reviews_url</th>\n",
       "      <th>specs</th>\n",
       "      <th>early_access</th>\n",
       "      <th>id</th>\n",
       "      <th>developer</th>\n",
       "      <th>price</th>\n",
       "      <th>release_year</th>\n",
       "    </tr>\n",
       "  </thead>\n",
       "  <tbody>\n",
       "    <tr>\n",
       "      <th>88310</th>\n",
       "      <td>Kotoshiro</td>\n",
       "      <td>['Action', 'Casual', 'Indie', 'Simulation', 'S...</td>\n",
       "      <td>Lost Summoner Kitty</td>\n",
       "      <td>Lost Summoner Kitty</td>\n",
       "      <td>http://store.steampowered.com/app/761140/Lost_...</td>\n",
       "      <td>2018-01-04</td>\n",
       "      <td>['Strategy', 'Action', 'Indie', 'Casual', 'Sim...</td>\n",
       "      <td>http://steamcommunity.com/app/761140/reviews/?...</td>\n",
       "      <td>['Single-player']</td>\n",
       "      <td>0.0</td>\n",
       "      <td>761140</td>\n",
       "      <td>Kotoshiro</td>\n",
       "      <td>4.99</td>\n",
       "      <td>2018</td>\n",
       "    </tr>\n",
       "  </tbody>\n",
       "</table>\n",
       "</div>"
      ],
      "text/plain": [
       "       publisher                                             genres  \\\n",
       "88310  Kotoshiro  ['Action', 'Casual', 'Indie', 'Simulation', 'S...   \n",
       "\n",
       "                  app_name                title  \\\n",
       "88310  Lost Summoner Kitty  Lost Summoner Kitty   \n",
       "\n",
       "                                                     url release_date  \\\n",
       "88310  http://store.steampowered.com/app/761140/Lost_...   2018-01-04   \n",
       "\n",
       "                                                    tags  \\\n",
       "88310  ['Strategy', 'Action', 'Indie', 'Casual', 'Sim...   \n",
       "\n",
       "                                             reviews_url              specs  \\\n",
       "88310  http://steamcommunity.com/app/761140/reviews/?...  ['Single-player']   \n",
       "\n",
       "       early_access      id  developer  price  release_year  \n",
       "88310           0.0  761140  Kotoshiro   4.99          2018  "
      ]
     },
     "execution_count": 52,
     "metadata": {},
     "output_type": "execute_result"
    }
   ],
   "source": [
    "dfoutput.head(1)"
   ]
  },
  {
   "cell_type": "markdown",
   "metadata": {},
   "source": [
    "Revisar valoresa tipicos para \"release_year\""
   ]
  },
  {
   "cell_type": "code",
   "execution_count": 54,
   "metadata": {},
   "outputs": [
    {
     "data": {
      "text/plain": [
       "101450    2021\n",
       "102531    2019\n",
       "109678    2019\n",
       "102742    2019\n",
       "120366    2018\n",
       "          ... \n",
       "97556     1981\n",
       "107428    1980\n",
       "103155    1975\n",
       "107412    1970\n",
       "103157    1970\n",
       "Name: release_year, Length: 29782, dtype: int32"
      ]
     },
     "execution_count": 54,
     "metadata": {},
     "output_type": "execute_result"
    }
   ],
   "source": [
    "# Revisar valoresa tipicos para \"release_year\"\n",
    "\n",
    "dfoutput[\"release_year\"].sort_values(ascending=False)"
   ]
  },
  {
   "cell_type": "code",
   "execution_count": 55,
   "metadata": {},
   "outputs": [
    {
     "data": {
      "image/png": "[encoded data removed]",
      "text/plain": [
       "<Figure size 1000x600 with 1 Axes>"
      ]
     },
     "metadata": {},
     "output_type": "display_data"
    }
   ],
   "source": [
    "import matplotlib.pyplot as plt\n",
    "\n",
    "# Ordena los valores de release_year en orden descendente\n",
    "sorted_release_years = dfoutput[\"release_year\"].sort_values(ascending=False)\n",
    "\n",
    "# Crea un histograma\n",
    "plt.figure(figsize=(10, 6))\n",
    "plt.hist(sorted_release_years, bins=30, color='skyblue', edgecolor='black')\n",
    "plt.xlabel('Año de lanzamiento')\n",
    "plt.ylabel('Frecuencia')\n",
    "plt.title('Distribución de años de lanzamiento')\n",
    "plt.grid(axis='y', linestyle='--', alpha=0.7)\n",
    "plt.show()\n"
   ]
  },
  {
   "cell_type": "markdown",
   "metadata": {},
   "source": [
    "desanidamos output genres "
   ]
  },
  {
   "cell_type": "code",
   "execution_count": 60,
   "metadata": {},
   "outputs": [],
   "source": [
    "import pandas as pd\n",
    "import ast\n",
    "\n",
    "# Llenar los valores NaN en la columna 'genres' con una lista vacía\n",
    "dfoutput['genres'].fillna('[]', inplace=True)\n",
    "\n",
    "# Crear una lista para almacenar las filas desanidadas\n",
    "new_rows = []\n",
    "\n",
    "# Iterar a través del DataFrame original\n",
    "for index, row in dfoutput.iterrows():\n",
    "    try:\n",
    "        genres_list = ast.literal_eval(row['genres'])\n",
    "        if not isinstance(genres_list, list):\n",
    "            genres_list = []\n",
    "        for genre in genres_list:\n",
    "            new_row = row.copy()\n",
    "            new_row['genres'] = genre\n",
    "            new_rows.append(new_row)\n",
    "    except (SyntaxError, ValueError):\n",
    "        # Handle the case where the 'genres' column contains invalid data\n",
    "        pass\n",
    "\n",
    "# Crear un nuevo DataFrame con las filas desanidadas\n",
    "new_df = pd.DataFrame(new_rows)\n",
    "\n",
    "# Ahora new_df contiene las filas desanidadas con 'genres' como columnas individuales\n"
   ]
  },
  {
   "cell_type": "code",
   "execution_count": 61,
   "metadata": {},
   "outputs": [
    {
     "data": {
      "text/html": [
       "<div>\n",
       "<style scoped>\n",
       "    .dataframe tbody tr th:only-of-type {\n",
       "        vertical-align: middle;\n",
       "    }\n",
       "\n",
       "    .dataframe tbody tr th {\n",
       "        vertical-align: top;\n",
       "    }\n",
       "\n",
       "    .dataframe thead th {\n",
       "        text-align: right;\n",
       "    }\n",
       "</style>\n",
       "<table border=\"1\" class=\"dataframe\">\n",
       "  <thead>\n",
       "    <tr style=\"text-align: right;\">\n",
       "      <th></th>\n",
       "      <th>publisher</th>\n",
       "      <th>genres</th>\n",
       "      <th>app_name</th>\n",
       "      <th>title</th>\n",
       "      <th>url</th>\n",
       "      <th>release_date</th>\n",
       "      <th>tags</th>\n",
       "      <th>reviews_url</th>\n",
       "      <th>specs</th>\n",
       "      <th>early_access</th>\n",
       "      <th>id</th>\n",
       "      <th>developer</th>\n",
       "      <th>price</th>\n",
       "      <th>release_year</th>\n",
       "    </tr>\n",
       "  </thead>\n",
       "  <tbody>\n",
       "    <tr>\n",
       "      <th>88310</th>\n",
       "      <td>Kotoshiro</td>\n",
       "      <td>Action</td>\n",
       "      <td>Lost Summoner Kitty</td>\n",
       "      <td>Lost Summoner Kitty</td>\n",
       "      <td>http://store.steampowered.com/app/761140/Lost_...</td>\n",
       "      <td>2018-01-04</td>\n",
       "      <td>['Strategy', 'Action', 'Indie', 'Casual', 'Sim...</td>\n",
       "      <td>http://steamcommunity.com/app/761140/reviews/?...</td>\n",
       "      <td>['Single-player']</td>\n",
       "      <td>0.0</td>\n",
       "      <td>761140</td>\n",
       "      <td>Kotoshiro</td>\n",
       "      <td>4.99</td>\n",
       "      <td>2018</td>\n",
       "    </tr>\n",
       "  </tbody>\n",
       "</table>\n",
       "</div>"
      ],
      "text/plain": [
       "       publisher  genres             app_name                title  \\\n",
       "88310  Kotoshiro  Action  Lost Summoner Kitty  Lost Summoner Kitty   \n",
       "\n",
       "                                                     url release_date  \\\n",
       "88310  http://store.steampowered.com/app/761140/Lost_...   2018-01-04   \n",
       "\n",
       "                                                    tags  \\\n",
       "88310  ['Strategy', 'Action', 'Indie', 'Casual', 'Sim...   \n",
       "\n",
       "                                             reviews_url              specs  \\\n",
       "88310  http://steamcommunity.com/app/761140/reviews/?...  ['Single-player']   \n",
       "\n",
       "       early_access      id  developer  price  release_year  \n",
       "88310           0.0  761140  Kotoshiro   4.99          2018  "
      ]
     },
     "execution_count": 61,
     "metadata": {},
     "output_type": "execute_result"
    }
   ],
   "source": [
    "new_df.head(1)"
   ]
  },
  {
   "cell_type": "markdown",
   "metadata": {},
   "source": [
    "eliminamos columnas innecesarias para tener un dataframe mas limpio"
   ]
  },
  {
   "cell_type": "code",
   "execution_count": 62,
   "metadata": {},
   "outputs": [],
   "source": [
    "\n",
    "\n",
    "# Lista de columnas a eliminar\n",
    "columnas_a_eliminar = ['publisher', 'app_name', 'title', 'tags', 'specs', 'early_access']\n",
    "\n",
    "# Eliminar varias columnas a la vez\n",
    "new_df = new_df.drop(columnas_a_eliminar, axis=1)\n",
    "\n",
    "\n"
   ]
  },
  {
   "cell_type": "code",
   "execution_count": 63,
   "metadata": {},
   "outputs": [
    {
     "data": {
      "text/html": [
       "<div>\n",
       "<style scoped>\n",
       "    .dataframe tbody tr th:only-of-type {\n",
       "        vertical-align: middle;\n",
       "    }\n",
       "\n",
       "    .dataframe tbody tr th {\n",
       "        vertical-align: top;\n",
       "    }\n",
       "\n",
       "    .dataframe thead th {\n",
       "        text-align: right;\n",
       "    }\n",
       "</style>\n",
       "<table border=\"1\" class=\"dataframe\">\n",
       "  <thead>\n",
       "    <tr style=\"text-align: right;\">\n",
       "      <th></th>\n",
       "      <th>genres</th>\n",
       "      <th>url</th>\n",
       "      <th>release_date</th>\n",
       "      <th>reviews_url</th>\n",
       "      <th>id</th>\n",
       "      <th>developer</th>\n",
       "      <th>price</th>\n",
       "      <th>release_year</th>\n",
       "    </tr>\n",
       "  </thead>\n",
       "  <tbody>\n",
       "    <tr>\n",
       "      <th>88310</th>\n",
       "      <td>Action</td>\n",
       "      <td>http://store.steampowered.com/app/761140/Lost_...</td>\n",
       "      <td>2018-01-04</td>\n",
       "      <td>http://steamcommunity.com/app/761140/reviews/?...</td>\n",
       "      <td>761140</td>\n",
       "      <td>Kotoshiro</td>\n",
       "      <td>4.99</td>\n",
       "      <td>2018</td>\n",
       "    </tr>\n",
       "  </tbody>\n",
       "</table>\n",
       "</div>"
      ],
      "text/plain": [
       "       genres                                                url release_date  \\\n",
       "88310  Action  http://store.steampowered.com/app/761140/Lost_...   2018-01-04   \n",
       "\n",
       "                                             reviews_url      id  developer  \\\n",
       "88310  http://steamcommunity.com/app/761140/reviews/?...  761140  Kotoshiro   \n",
       "\n",
       "       price  release_year  \n",
       "88310   4.99          2018  "
      ]
     },
     "execution_count": 63,
     "metadata": {},
     "output_type": "execute_result"
    }
   ],
   "source": [
    "new_df.head(1)"
   ]
  },
  {
   "cell_type": "markdown",
   "metadata": {},
   "source": [
    "renombramos columna id para hacer los inner con las demas tablas "
   ]
  },
  {
   "cell_type": "code",
   "execution_count": 64,
   "metadata": {},
   "outputs": [],
   "source": [
    "\n",
    "# Cambiar el nombre de la columna\n",
    "new_df.rename(columns={'id': 'item_id'}, inplace=True)"
   ]
  },
  {
   "cell_type": "code",
   "execution_count": 65,
   "metadata": {},
   "outputs": [
    {
     "data": {
      "text/html": [
       "<div>\n",
       "<style scoped>\n",
       "    .dataframe tbody tr th:only-of-type {\n",
       "        vertical-align: middle;\n",
       "    }\n",
       "\n",
       "    .dataframe tbody tr th {\n",
       "        vertical-align: top;\n",
       "    }\n",
       "\n",
       "    .dataframe thead th {\n",
       "        text-align: right;\n",
       "    }\n",
       "</style>\n",
       "<table border=\"1\" class=\"dataframe\">\n",
       "  <thead>\n",
       "    <tr style=\"text-align: right;\">\n",
       "      <th></th>\n",
       "      <th>genres</th>\n",
       "      <th>url</th>\n",
       "      <th>release_date</th>\n",
       "      <th>reviews_url</th>\n",
       "      <th>item_id</th>\n",
       "      <th>developer</th>\n",
       "      <th>price</th>\n",
       "      <th>release_year</th>\n",
       "    </tr>\n",
       "  </thead>\n",
       "  <tbody>\n",
       "    <tr>\n",
       "      <th>88310</th>\n",
       "      <td>Action</td>\n",
       "      <td>http://store.steampowered.com/app/761140/Lost_...</td>\n",
       "      <td>2018-01-04</td>\n",
       "      <td>http://steamcommunity.com/app/761140/reviews/?...</td>\n",
       "      <td>761140</td>\n",
       "      <td>Kotoshiro</td>\n",
       "      <td>4.99</td>\n",
       "      <td>2018</td>\n",
       "    </tr>\n",
       "  </tbody>\n",
       "</table>\n",
       "</div>"
      ],
      "text/plain": [
       "       genres                                                url release_date  \\\n",
       "88310  Action  http://store.steampowered.com/app/761140/Lost_...   2018-01-04   \n",
       "\n",
       "                                             reviews_url item_id  developer  \\\n",
       "88310  http://steamcommunity.com/app/761140/reviews/?...  761140  Kotoshiro   \n",
       "\n",
       "       price  release_year  \n",
       "88310   4.99          2018  "
      ]
     },
     "execution_count": 65,
     "metadata": {},
     "output_type": "execute_result"
    }
   ],
   "source": [
    "new_df.head(1)"
   ]
  },
  {
   "cell_type": "markdown",
   "metadata": {},
   "source": [
    "guardamos el archivo en csv "
   ]
  },
  {
   "cell_type": "code",
   "execution_count": 66,
   "metadata": {},
   "outputs": [],
   "source": [
    "new_df.to_csv('output_desanidado.csv', index=False)"
   ]
  }
 ],
 "metadata": {
  "kernelspec": {
   "display_name": "Python 3",
   "language": "python",
   "name": "python3"
  },
  "language_info": {
   "codemirror_mode": {
    "name": "ipython",
    "version": 3
   },
   "file_extension": ".py",
   "mimetype": "text/x-python",
   "name": "python",
   "nbconvert_exporter": "python",
   "pygments_lexer": "ipython3",
   "version": "3.11.3"
  },
  "orig_nbformat": 4
 },
 "nbformat": 4,
 "nbformat_minor": 2
}
