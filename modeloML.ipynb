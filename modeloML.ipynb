{
 "cells": [
  {
   "cell_type": "markdown",
   "metadata": {},
   "source": [
    "# Modelo de recomendación item-item\n",
    "\n",
    "Se genera un modelo de ML de recomendacion de items por similitud del coseno es decir yo ingreso un articulo y el modelo busca articulos similares y nos los recomienda comparando que tan parecidos son.\n",
    "\n",
    "El modelo de la similitud del coseno funciona comparando vectores, los cuales obtenemos de nuestros datasets, los vectores son comparados en un espacio en el que se evalua el valor del coseno comprendido entre ellos."
   ]
  },
  {
   "cell_type": "markdown",
   "metadata": {},
   "source": [
    "## Carga de archivos necesarios y transformaciones"
   ]
  },
  {
   "cell_type": "code",
   "execution_count": 1,
   "metadata": {},
   "outputs": [],
   "source": [
    "import pandas as pd\n"
   ]
  },
  {
   "cell_type": "code",
   "execution_count": 7,
   "metadata": {},
   "outputs": [
    {
     "ename": "FileNotFoundError",
     "evalue": "[Errno 2] No such file or directory: 'output_desanidado.csv'",
     "output_type": "error",
     "traceback": [
      "\u001b[1;31m---------------------------------------------------------------------------\u001b[0m",
      "\u001b[1;31mFileNotFoundError\u001b[0m                         Traceback (most recent call last)",
      "Cell \u001b[1;32mIn[7], line 2\u001b[0m\n\u001b[0;32m      1\u001b[0m \u001b[39m#Cargamos el dataset para este los datos, como necesitamos el genero cargamos el de \u001b[39;00m\n\u001b[1;32m----> 2\u001b[0m df \u001b[39m=\u001b[39m pd\u001b[39m.\u001b[39;49mread_csv(\u001b[39mr\u001b[39;49m\u001b[39m\"\u001b[39;49m\u001b[39moutput_desanidado.csv\u001b[39;49m\u001b[39m\"\u001b[39;49m, low_memory\u001b[39m=\u001b[39;49m\u001b[39mFalse\u001b[39;49;00m)\n\u001b[0;32m      3\u001b[0m df\u001b[39m.\u001b[39mhead()\n",
      "File \u001b[1;32mc:\\Users\\TOCALACTEOS\\AppData\\Local\\Programs\\Python\\Python311\\Lib\\site-packages\\pandas\\io\\parsers\\readers.py:912\u001b[0m, in \u001b[0;36mread_csv\u001b[1;34m(filepath_or_buffer, sep, delimiter, header, names, index_col, usecols, dtype, engine, converters, true_values, false_values, skipinitialspace, skiprows, skipfooter, nrows, na_values, keep_default_na, na_filter, verbose, skip_blank_lines, parse_dates, infer_datetime_format, keep_date_col, date_parser, date_format, dayfirst, cache_dates, iterator, chunksize, compression, thousands, decimal, lineterminator, quotechar, quoting, doublequote, escapechar, comment, encoding, encoding_errors, dialect, on_bad_lines, delim_whitespace, low_memory, memory_map, float_precision, storage_options, dtype_backend)\u001b[0m\n\u001b[0;32m    899\u001b[0m kwds_defaults \u001b[39m=\u001b[39m _refine_defaults_read(\n\u001b[0;32m    900\u001b[0m     dialect,\n\u001b[0;32m    901\u001b[0m     delimiter,\n\u001b[1;32m   (...)\u001b[0m\n\u001b[0;32m    908\u001b[0m     dtype_backend\u001b[39m=\u001b[39mdtype_backend,\n\u001b[0;32m    909\u001b[0m )\n\u001b[0;32m    910\u001b[0m kwds\u001b[39m.\u001b[39mupdate(kwds_defaults)\n\u001b[1;32m--> 912\u001b[0m \u001b[39mreturn\u001b[39;00m _read(filepath_or_buffer, kwds)\n",
      "File \u001b[1;32mc:\\Users\\TOCALACTEOS\\AppData\\Local\\Programs\\Python\\Python311\\Lib\\site-packages\\pandas\\io\\parsers\\readers.py:577\u001b[0m, in \u001b[0;36m_read\u001b[1;34m(filepath_or_buffer, kwds)\u001b[0m\n\u001b[0;32m    574\u001b[0m _validate_names(kwds\u001b[39m.\u001b[39mget(\u001b[39m\"\u001b[39m\u001b[39mnames\u001b[39m\u001b[39m\"\u001b[39m, \u001b[39mNone\u001b[39;00m))\n\u001b[0;32m    576\u001b[0m \u001b[39m# Create the parser.\u001b[39;00m\n\u001b[1;32m--> 577\u001b[0m parser \u001b[39m=\u001b[39m TextFileReader(filepath_or_buffer, \u001b[39m*\u001b[39;49m\u001b[39m*\u001b[39;49mkwds)\n\u001b[0;32m    579\u001b[0m \u001b[39mif\u001b[39;00m chunksize \u001b[39mor\u001b[39;00m iterator:\n\u001b[0;32m    580\u001b[0m     \u001b[39mreturn\u001b[39;00m parser\n",
      "File \u001b[1;32mc:\\Users\\TOCALACTEOS\\AppData\\Local\\Programs\\Python\\Python311\\Lib\\site-packages\\pandas\\io\\parsers\\readers.py:1407\u001b[0m, in \u001b[0;36mTextFileReader.__init__\u001b[1;34m(self, f, engine, **kwds)\u001b[0m\n\u001b[0;32m   1404\u001b[0m     \u001b[39mself\u001b[39m\u001b[39m.\u001b[39moptions[\u001b[39m\"\u001b[39m\u001b[39mhas_index_names\u001b[39m\u001b[39m\"\u001b[39m] \u001b[39m=\u001b[39m kwds[\u001b[39m\"\u001b[39m\u001b[39mhas_index_names\u001b[39m\u001b[39m\"\u001b[39m]\n\u001b[0;32m   1406\u001b[0m \u001b[39mself\u001b[39m\u001b[39m.\u001b[39mhandles: IOHandles \u001b[39m|\u001b[39m \u001b[39mNone\u001b[39;00m \u001b[39m=\u001b[39m \u001b[39mNone\u001b[39;00m\n\u001b[1;32m-> 1407\u001b[0m \u001b[39mself\u001b[39m\u001b[39m.\u001b[39m_engine \u001b[39m=\u001b[39m \u001b[39mself\u001b[39;49m\u001b[39m.\u001b[39;49m_make_engine(f, \u001b[39mself\u001b[39;49m\u001b[39m.\u001b[39;49mengine)\n",
      "File \u001b[1;32mc:\\Users\\TOCALACTEOS\\AppData\\Local\\Programs\\Python\\Python311\\Lib\\site-packages\\pandas\\io\\parsers\\readers.py:1661\u001b[0m, in \u001b[0;36mTextFileReader._make_engine\u001b[1;34m(self, f, engine)\u001b[0m\n\u001b[0;32m   1659\u001b[0m     \u001b[39mif\u001b[39;00m \u001b[39m\"\u001b[39m\u001b[39mb\u001b[39m\u001b[39m\"\u001b[39m \u001b[39mnot\u001b[39;00m \u001b[39min\u001b[39;00m mode:\n\u001b[0;32m   1660\u001b[0m         mode \u001b[39m+\u001b[39m\u001b[39m=\u001b[39m \u001b[39m\"\u001b[39m\u001b[39mb\u001b[39m\u001b[39m\"\u001b[39m\n\u001b[1;32m-> 1661\u001b[0m \u001b[39mself\u001b[39m\u001b[39m.\u001b[39mhandles \u001b[39m=\u001b[39m get_handle(\n\u001b[0;32m   1662\u001b[0m     f,\n\u001b[0;32m   1663\u001b[0m     mode,\n\u001b[0;32m   1664\u001b[0m     encoding\u001b[39m=\u001b[39;49m\u001b[39mself\u001b[39;49m\u001b[39m.\u001b[39;49moptions\u001b[39m.\u001b[39;49mget(\u001b[39m\"\u001b[39;49m\u001b[39mencoding\u001b[39;49m\u001b[39m\"\u001b[39;49m, \u001b[39mNone\u001b[39;49;00m),\n\u001b[0;32m   1665\u001b[0m     compression\u001b[39m=\u001b[39;49m\u001b[39mself\u001b[39;49m\u001b[39m.\u001b[39;49moptions\u001b[39m.\u001b[39;49mget(\u001b[39m\"\u001b[39;49m\u001b[39mcompression\u001b[39;49m\u001b[39m\"\u001b[39;49m, \u001b[39mNone\u001b[39;49;00m),\n\u001b[0;32m   1666\u001b[0m     memory_map\u001b[39m=\u001b[39;49m\u001b[39mself\u001b[39;49m\u001b[39m.\u001b[39;49moptions\u001b[39m.\u001b[39;49mget(\u001b[39m\"\u001b[39;49m\u001b[39mmemory_map\u001b[39;49m\u001b[39m\"\u001b[39;49m, \u001b[39mFalse\u001b[39;49;00m),\n\u001b[0;32m   1667\u001b[0m     is_text\u001b[39m=\u001b[39;49mis_text,\n\u001b[0;32m   1668\u001b[0m     errors\u001b[39m=\u001b[39;49m\u001b[39mself\u001b[39;49m\u001b[39m.\u001b[39;49moptions\u001b[39m.\u001b[39;49mget(\u001b[39m\"\u001b[39;49m\u001b[39mencoding_errors\u001b[39;49m\u001b[39m\"\u001b[39;49m, \u001b[39m\"\u001b[39;49m\u001b[39mstrict\u001b[39;49m\u001b[39m\"\u001b[39;49m),\n\u001b[0;32m   1669\u001b[0m     storage_options\u001b[39m=\u001b[39;49m\u001b[39mself\u001b[39;49m\u001b[39m.\u001b[39;49moptions\u001b[39m.\u001b[39;49mget(\u001b[39m\"\u001b[39;49m\u001b[39mstorage_options\u001b[39;49m\u001b[39m\"\u001b[39;49m, \u001b[39mNone\u001b[39;49;00m),\n\u001b[0;32m   1670\u001b[0m )\n\u001b[0;32m   1671\u001b[0m \u001b[39massert\u001b[39;00m \u001b[39mself\u001b[39m\u001b[39m.\u001b[39mhandles \u001b[39mis\u001b[39;00m \u001b[39mnot\u001b[39;00m \u001b[39mNone\u001b[39;00m\n\u001b[0;32m   1672\u001b[0m f \u001b[39m=\u001b[39m \u001b[39mself\u001b[39m\u001b[39m.\u001b[39mhandles\u001b[39m.\u001b[39mhandle\n",
      "File \u001b[1;32mc:\\Users\\TOCALACTEOS\\AppData\\Local\\Programs\\Python\\Python311\\Lib\\site-packages\\pandas\\io\\common.py:859\u001b[0m, in \u001b[0;36mget_handle\u001b[1;34m(path_or_buf, mode, encoding, compression, memory_map, is_text, errors, storage_options)\u001b[0m\n\u001b[0;32m    854\u001b[0m \u001b[39melif\u001b[39;00m \u001b[39misinstance\u001b[39m(handle, \u001b[39mstr\u001b[39m):\n\u001b[0;32m    855\u001b[0m     \u001b[39m# Check whether the filename is to be opened in binary mode.\u001b[39;00m\n\u001b[0;32m    856\u001b[0m     \u001b[39m# Binary mode does not support 'encoding' and 'newline'.\u001b[39;00m\n\u001b[0;32m    857\u001b[0m     \u001b[39mif\u001b[39;00m ioargs\u001b[39m.\u001b[39mencoding \u001b[39mand\u001b[39;00m \u001b[39m\"\u001b[39m\u001b[39mb\u001b[39m\u001b[39m\"\u001b[39m \u001b[39mnot\u001b[39;00m \u001b[39min\u001b[39;00m ioargs\u001b[39m.\u001b[39mmode:\n\u001b[0;32m    858\u001b[0m         \u001b[39m# Encoding\u001b[39;00m\n\u001b[1;32m--> 859\u001b[0m         handle \u001b[39m=\u001b[39m \u001b[39mopen\u001b[39;49m(\n\u001b[0;32m    860\u001b[0m             handle,\n\u001b[0;32m    861\u001b[0m             ioargs\u001b[39m.\u001b[39;49mmode,\n\u001b[0;32m    862\u001b[0m             encoding\u001b[39m=\u001b[39;49mioargs\u001b[39m.\u001b[39;49mencoding,\n\u001b[0;32m    863\u001b[0m             errors\u001b[39m=\u001b[39;49merrors,\n\u001b[0;32m    864\u001b[0m             newline\u001b[39m=\u001b[39;49m\u001b[39m\"\u001b[39;49m\u001b[39m\"\u001b[39;49m,\n\u001b[0;32m    865\u001b[0m         )\n\u001b[0;32m    866\u001b[0m     \u001b[39melse\u001b[39;00m:\n\u001b[0;32m    867\u001b[0m         \u001b[39m# Binary mode\u001b[39;00m\n\u001b[0;32m    868\u001b[0m         handle \u001b[39m=\u001b[39m \u001b[39mopen\u001b[39m(handle, ioargs\u001b[39m.\u001b[39mmode)\n",
      "\u001b[1;31mFileNotFoundError\u001b[0m: [Errno 2] No such file or directory: 'output_desanidado.csv'"
     ]
    }
   ],
   "source": [
    "#Cargamos el dataset para este los datos, como necesitamos el genero cargamos el de \n",
    "df = pd.read_csv(r\"output_desanidado.csv\", low_memory=False)\n",
    "df.head()"
   ]
  },
  {
   "cell_type": "code",
   "execution_count": 52,
   "metadata": {},
   "outputs": [],
   "source": [
    "# Se requiere el id y filtre por titulo en pasos posteriores por lo que debo obtenerlo\n",
    "\n",
    "dfD = df.groupby('title')['id'].sum().reset_index()"
   ]
  },
  {
   "cell_type": "code",
   "execution_count": 53,
   "metadata": {},
   "outputs": [
    {
     "data": {
      "text/html": [
       "<div>\n",
       "<style scoped>\n",
       "    .dataframe tbody tr th:only-of-type {\n",
       "        vertical-align: middle;\n",
       "    }\n",
       "\n",
       "    .dataframe tbody tr th {\n",
       "        vertical-align: top;\n",
       "    }\n",
       "\n",
       "    .dataframe thead th {\n",
       "        text-align: right;\n",
       "    }\n",
       "</style>\n",
       "<table border=\"1\" class=\"dataframe\">\n",
       "  <thead>\n",
       "    <tr style=\"text-align: right;\">\n",
       "      <th></th>\n",
       "      <th>title</th>\n",
       "      <th>id</th>\n",
       "    </tr>\n",
       "  </thead>\n",
       "  <tbody>\n",
       "    <tr>\n",
       "      <th>0</th>\n",
       "      <td>! That Bastard Is Trying To Steal Our Gold !</td>\n",
       "      <td>1799760</td>\n",
       "    </tr>\n",
       "    <tr>\n",
       "      <th>1</th>\n",
       "      <td>\"Barely Attuned Magic Thingy\" Staff</td>\n",
       "      <td>1540815</td>\n",
       "    </tr>\n",
       "    <tr>\n",
       "      <th>2</th>\n",
       "      <td>\"Glow Ball\" - The billiard puzzle game</td>\n",
       "      <td>1553560</td>\n",
       "    </tr>\n",
       "    <tr>\n",
       "      <th>3</th>\n",
       "      <td>\"Just Another Day\" - Seduce Me Otome CD</td>\n",
       "      <td>909580</td>\n",
       "    </tr>\n",
       "    <tr>\n",
       "      <th>4</th>\n",
       "      <td>\"Lethargic Sentience\" Wand</td>\n",
       "      <td>1540820</td>\n",
       "    </tr>\n",
       "  </tbody>\n",
       "</table>\n",
       "</div>"
      ],
      "text/plain": [
       "                                          title       id\n",
       "0  ! That Bastard Is Trying To Steal Our Gold !  1799760\n",
       "1           \"Barely Attuned Magic Thingy\" Staff  1540815\n",
       "2        \"Glow Ball\" - The billiard puzzle game  1553560\n",
       "3       \"Just Another Day\" - Seduce Me Otome CD   909580\n",
       "4                    \"Lethargic Sentience\" Wand  1540820"
      ]
     },
     "execution_count": 53,
     "metadata": {},
     "output_type": "execute_result"
    }
   ],
   "source": [
    "dfD.head()"
   ]
  },
  {
   "cell_type": "markdown",
   "metadata": {},
   "source": [
    "El modelo no requiere de precio, año en que fue lanzado ni del id por lo que se quitan del dataframe."
   ]
  },
  {
   "cell_type": "code",
   "execution_count": 16,
   "metadata": {},
   "outputs": [
    {
     "data": {
      "text/html": [
       "<div>\n",
       "<style scoped>\n",
       "    .dataframe tbody tr th:only-of-type {\n",
       "        vertical-align: middle;\n",
       "    }\n",
       "\n",
       "    .dataframe tbody tr th {\n",
       "        vertical-align: top;\n",
       "    }\n",
       "\n",
       "    .dataframe thead th {\n",
       "        text-align: right;\n",
       "    }\n",
       "</style>\n",
       "<table border=\"1\" class=\"dataframe\">\n",
       "  <thead>\n",
       "    <tr style=\"text-align: right;\">\n",
       "      <th></th>\n",
       "      <th>publisher</th>\n",
       "      <th>genres</th>\n",
       "      <th>title</th>\n",
       "      <th>developer</th>\n",
       "    </tr>\n",
       "  </thead>\n",
       "  <tbody>\n",
       "    <tr>\n",
       "      <th>0</th>\n",
       "      <td>Kotoshiro</td>\n",
       "      <td>Action</td>\n",
       "      <td>Lost Summoner Kitty</td>\n",
       "      <td>Kotoshiro</td>\n",
       "    </tr>\n",
       "    <tr>\n",
       "      <th>1</th>\n",
       "      <td>Kotoshiro</td>\n",
       "      <td>Casual</td>\n",
       "      <td>Lost Summoner Kitty</td>\n",
       "      <td>Kotoshiro</td>\n",
       "    </tr>\n",
       "    <tr>\n",
       "      <th>2</th>\n",
       "      <td>Kotoshiro</td>\n",
       "      <td>Indie</td>\n",
       "      <td>Lost Summoner Kitty</td>\n",
       "      <td>Kotoshiro</td>\n",
       "    </tr>\n",
       "    <tr>\n",
       "      <th>3</th>\n",
       "      <td>Kotoshiro</td>\n",
       "      <td>Simulation</td>\n",
       "      <td>Lost Summoner Kitty</td>\n",
       "      <td>Kotoshiro</td>\n",
       "    </tr>\n",
       "    <tr>\n",
       "      <th>4</th>\n",
       "      <td>Kotoshiro</td>\n",
       "      <td>Strategy</td>\n",
       "      <td>Lost Summoner Kitty</td>\n",
       "      <td>Kotoshiro</td>\n",
       "    </tr>\n",
       "  </tbody>\n",
       "</table>\n",
       "</div>"
      ],
      "text/plain": [
       "   publisher      genres                title  developer\n",
       "0  Kotoshiro      Action  Lost Summoner Kitty  Kotoshiro\n",
       "1  Kotoshiro      Casual  Lost Summoner Kitty  Kotoshiro\n",
       "2  Kotoshiro       Indie  Lost Summoner Kitty  Kotoshiro\n",
       "3  Kotoshiro  Simulation  Lost Summoner Kitty  Kotoshiro\n",
       "4  Kotoshiro    Strategy  Lost Summoner Kitty  Kotoshiro"
      ]
     },
     "execution_count": 16,
     "metadata": {},
     "output_type": "execute_result"
    }
   ],
   "source": [
    "df=df.drop([\"price\",\"id\",\"release_year\",\"app_name\"], axis=1)\n",
    "df.head()"
   ]
  },
  {
   "cell_type": "code",
   "execution_count": 29,
   "metadata": {},
   "outputs": [],
   "source": [
    "# se agrupan los generos en una sola fila.\n",
    "genres_df = df.groupby('title')['genres'].agg(', '.join).reset_index()"
   ]
  },
  {
   "cell_type": "code",
   "execution_count": 30,
   "metadata": {},
   "outputs": [
    {
     "data": {
      "text/html": [
       "<div>\n",
       "<style scoped>\n",
       "    .dataframe tbody tr th:only-of-type {\n",
       "        vertical-align: middle;\n",
       "    }\n",
       "\n",
       "    .dataframe tbody tr th {\n",
       "        vertical-align: top;\n",
       "    }\n",
       "\n",
       "    .dataframe thead th {\n",
       "        text-align: right;\n",
       "    }\n",
       "</style>\n",
       "<table border=\"1\" class=\"dataframe\">\n",
       "  <thead>\n",
       "    <tr style=\"text-align: right;\">\n",
       "      <th></th>\n",
       "      <th>title</th>\n",
       "      <th>genres</th>\n",
       "    </tr>\n",
       "  </thead>\n",
       "  <tbody>\n",
       "    <tr>\n",
       "      <th>0</th>\n",
       "      <td>! That Bastard Is Trying To Steal Our Gold !</td>\n",
       "      <td>Action, Adventure, Casual, Indie</td>\n",
       "    </tr>\n",
       "    <tr>\n",
       "      <th>1</th>\n",
       "      <td>\"Barely Attuned Magic Thingy\" Staff</td>\n",
       "      <td>Action, Free to Play, Indie, Massively Multipl...</td>\n",
       "    </tr>\n",
       "    <tr>\n",
       "      <th>2</th>\n",
       "      <td>\"Glow Ball\" - The billiard puzzle game</td>\n",
       "      <td>Casual, Indie, Sports, Strategy</td>\n",
       "    </tr>\n",
       "    <tr>\n",
       "      <th>3</th>\n",
       "      <td>\"Just Another Day\" - Seduce Me Otome CD</td>\n",
       "      <td>Casual, Simulation</td>\n",
       "    </tr>\n",
       "    <tr>\n",
       "      <th>4</th>\n",
       "      <td>\"Lethargic Sentience\" Wand</td>\n",
       "      <td>Action, Free to Play, Indie, Massively Multipl...</td>\n",
       "    </tr>\n",
       "  </tbody>\n",
       "</table>\n",
       "</div>"
      ],
      "text/plain": [
       "                                          title  \\\n",
       "0  ! That Bastard Is Trying To Steal Our Gold !   \n",
       "1           \"Barely Attuned Magic Thingy\" Staff   \n",
       "2        \"Glow Ball\" - The billiard puzzle game   \n",
       "3       \"Just Another Day\" - Seduce Me Otome CD   \n",
       "4                    \"Lethargic Sentience\" Wand   \n",
       "\n",
       "                                              genres  \n",
       "0                   Action, Adventure, Casual, Indie  \n",
       "1  Action, Free to Play, Indie, Massively Multipl...  \n",
       "2                    Casual, Indie, Sports, Strategy  \n",
       "3                                 Casual, Simulation  \n",
       "4  Action, Free to Play, Indie, Massively Multipl...  "
      ]
     },
     "execution_count": 30,
     "metadata": {},
     "output_type": "execute_result"
    }
   ],
   "source": [
    "genres_df.head()"
   ]
  },
  {
   "cell_type": "code",
   "execution_count": 32,
   "metadata": {},
   "outputs": [],
   "source": [
    "# Se agrupan tambien el publisher por cada fila para eso se requiere antes cambiar el tipo de dato a str\n",
    "\n",
    "df[\"publisher\"] = df[\"publisher\"].astype(str)\n",
    "\n",
    "publisher_df = df.groupby('title')['publisher'].agg(', '.join).reset_index()"
   ]
  },
  {
   "cell_type": "code",
   "execution_count": 35,
   "metadata": {},
   "outputs": [
    {
     "data": {
      "text/html": [
       "<div>\n",
       "<style scoped>\n",
       "    .dataframe tbody tr th:only-of-type {\n",
       "        vertical-align: middle;\n",
       "    }\n",
       "\n",
       "    .dataframe tbody tr th {\n",
       "        vertical-align: top;\n",
       "    }\n",
       "\n",
       "    .dataframe thead th {\n",
       "        text-align: right;\n",
       "    }\n",
       "</style>\n",
       "<table border=\"1\" class=\"dataframe\">\n",
       "  <thead>\n",
       "    <tr style=\"text-align: right;\">\n",
       "      <th></th>\n",
       "      <th>title</th>\n",
       "      <th>publisher</th>\n",
       "    </tr>\n",
       "  </thead>\n",
       "  <tbody>\n",
       "    <tr>\n",
       "      <th>0</th>\n",
       "      <td>! That Bastard Is Trying To Steal Our Gold !</td>\n",
       "      <td>WTFOMGames, WTFOMGames, WTFOMGames, WTFOMGames</td>\n",
       "    </tr>\n",
       "    <tr>\n",
       "      <th>1</th>\n",
       "      <td>\"Barely Attuned Magic Thingy\" Staff</td>\n",
       "      <td>Sin dato, Sin dato, Sin dato, Sin dato, Sin dato</td>\n",
       "    </tr>\n",
       "    <tr>\n",
       "      <th>2</th>\n",
       "      <td>\"Glow Ball\" - The billiard puzzle game</td>\n",
       "      <td>WTFOMGames, WTFOMGames, WTFOMGames, WTFOMGames</td>\n",
       "    </tr>\n",
       "    <tr>\n",
       "      <th>3</th>\n",
       "      <td>\"Just Another Day\" - Seduce Me Otome CD</td>\n",
       "      <td>Sin dato, Sin dato</td>\n",
       "    </tr>\n",
       "    <tr>\n",
       "      <th>4</th>\n",
       "      <td>\"Lethargic Sentience\" Wand</td>\n",
       "      <td>Sin dato, Sin dato, Sin dato, Sin dato, Sin dato</td>\n",
       "    </tr>\n",
       "  </tbody>\n",
       "</table>\n",
       "</div>"
      ],
      "text/plain": [
       "                                          title  \\\n",
       "0  ! That Bastard Is Trying To Steal Our Gold !   \n",
       "1           \"Barely Attuned Magic Thingy\" Staff   \n",
       "2        \"Glow Ball\" - The billiard puzzle game   \n",
       "3       \"Just Another Day\" - Seduce Me Otome CD   \n",
       "4                    \"Lethargic Sentience\" Wand   \n",
       "\n",
       "                                          publisher  \n",
       "0    WTFOMGames, WTFOMGames, WTFOMGames, WTFOMGames  \n",
       "1  Sin dato, Sin dato, Sin dato, Sin dato, Sin dato  \n",
       "2    WTFOMGames, WTFOMGames, WTFOMGames, WTFOMGames  \n",
       "3                                Sin dato, Sin dato  \n",
       "4  Sin dato, Sin dato, Sin dato, Sin dato, Sin dato  "
      ]
     },
     "execution_count": 35,
     "metadata": {},
     "output_type": "execute_result"
    }
   ],
   "source": [
    "publisher_df.head()"
   ]
  },
  {
   "cell_type": "code",
   "execution_count": 33,
   "metadata": {},
   "outputs": [
    {
     "data": {
      "text/html": [
       "<div>\n",
       "<style scoped>\n",
       "    .dataframe tbody tr th:only-of-type {\n",
       "        vertical-align: middle;\n",
       "    }\n",
       "\n",
       "    .dataframe tbody tr th {\n",
       "        vertical-align: top;\n",
       "    }\n",
       "\n",
       "    .dataframe thead th {\n",
       "        text-align: right;\n",
       "    }\n",
       "</style>\n",
       "<table border=\"1\" class=\"dataframe\">\n",
       "  <thead>\n",
       "    <tr style=\"text-align: right;\">\n",
       "      <th></th>\n",
       "      <th>title</th>\n",
       "      <th>genres</th>\n",
       "      <th>publisher</th>\n",
       "    </tr>\n",
       "  </thead>\n",
       "  <tbody>\n",
       "    <tr>\n",
       "      <th>0</th>\n",
       "      <td>! That Bastard Is Trying To Steal Our Gold !</td>\n",
       "      <td>Action, Adventure, Casual, Indie</td>\n",
       "      <td>WTFOMGames, WTFOMGames, WTFOMGames, WTFOMGames</td>\n",
       "    </tr>\n",
       "    <tr>\n",
       "      <th>1</th>\n",
       "      <td>\"Barely Attuned Magic Thingy\" Staff</td>\n",
       "      <td>Action, Free to Play, Indie, Massively Multipl...</td>\n",
       "      <td>Sin dato, Sin dato, Sin dato, Sin dato, Sin dato</td>\n",
       "    </tr>\n",
       "    <tr>\n",
       "      <th>2</th>\n",
       "      <td>\"Glow Ball\" - The billiard puzzle game</td>\n",
       "      <td>Casual, Indie, Sports, Strategy</td>\n",
       "      <td>WTFOMGames, WTFOMGames, WTFOMGames, WTFOMGames</td>\n",
       "    </tr>\n",
       "    <tr>\n",
       "      <th>3</th>\n",
       "      <td>\"Just Another Day\" - Seduce Me Otome CD</td>\n",
       "      <td>Casual, Simulation</td>\n",
       "      <td>Sin dato, Sin dato</td>\n",
       "    </tr>\n",
       "    <tr>\n",
       "      <th>4</th>\n",
       "      <td>\"Lethargic Sentience\" Wand</td>\n",
       "      <td>Action, Free to Play, Indie, Massively Multipl...</td>\n",
       "      <td>Sin dato, Sin dato, Sin dato, Sin dato, Sin dato</td>\n",
       "    </tr>\n",
       "  </tbody>\n",
       "</table>\n",
       "</div>"
      ],
      "text/plain": [
       "                                          title  \\\n",
       "0  ! That Bastard Is Trying To Steal Our Gold !   \n",
       "1           \"Barely Attuned Magic Thingy\" Staff   \n",
       "2        \"Glow Ball\" - The billiard puzzle game   \n",
       "3       \"Just Another Day\" - Seduce Me Otome CD   \n",
       "4                    \"Lethargic Sentience\" Wand   \n",
       "\n",
       "                                              genres  \\\n",
       "0                   Action, Adventure, Casual, Indie   \n",
       "1  Action, Free to Play, Indie, Massively Multipl...   \n",
       "2                    Casual, Indie, Sports, Strategy   \n",
       "3                                 Casual, Simulation   \n",
       "4  Action, Free to Play, Indie, Massively Multipl...   \n",
       "\n",
       "                                          publisher  \n",
       "0    WTFOMGames, WTFOMGames, WTFOMGames, WTFOMGames  \n",
       "1  Sin dato, Sin dato, Sin dato, Sin dato, Sin dato  \n",
       "2    WTFOMGames, WTFOMGames, WTFOMGames, WTFOMGames  \n",
       "3                                Sin dato, Sin dato  \n",
       "4  Sin dato, Sin dato, Sin dato, Sin dato, Sin dato  "
      ]
     },
     "execution_count": 33,
     "metadata": {},
     "output_type": "execute_result"
    }
   ],
   "source": [
    "# Se unen los dataframes por titulo\n",
    "dfGames =  pd.merge(genres_df,publisher_df, on=\"title\")\n",
    "dfGames.head()"
   ]
  },
  {
   "cell_type": "code",
   "execution_count": null,
   "metadata": {},
   "outputs": [],
   "source": [
    "df = pd.read_csv(r\"output_desanidado.csv\", low_memory=False)\n",
    "df.head()"
   ]
  },
  {
   "cell_type": "code",
   "execution_count": 39,
   "metadata": {},
   "outputs": [
    {
     "data": {
      "text/html": [
       "<div>\n",
       "<style scoped>\n",
       "    .dataframe tbody tr th:only-of-type {\n",
       "        vertical-align: middle;\n",
       "    }\n",
       "\n",
       "    .dataframe tbody tr th {\n",
       "        vertical-align: top;\n",
       "    }\n",
       "\n",
       "    .dataframe thead th {\n",
       "        text-align: right;\n",
       "    }\n",
       "</style>\n",
       "<table border=\"1\" class=\"dataframe\">\n",
       "  <thead>\n",
       "    <tr style=\"text-align: right;\">\n",
       "      <th></th>\n",
       "      <th>title</th>\n",
       "      <th>genres</th>\n",
       "      <th>publisher</th>\n",
       "      <th>importante</th>\n",
       "    </tr>\n",
       "  </thead>\n",
       "  <tbody>\n",
       "    <tr>\n",
       "      <th>0</th>\n",
       "      <td>! That Bastard Is Trying To Steal Our Gold !</td>\n",
       "      <td>Action, Adventure, Casual, Indie</td>\n",
       "      <td>WTFOMGames, WTFOMGames, WTFOMGames, WTFOMGames</td>\n",
       "      <td>! That Bastard Is Trying To Steal Our Gold ! W...</td>\n",
       "    </tr>\n",
       "    <tr>\n",
       "      <th>1</th>\n",
       "      <td>\"Barely Attuned Magic Thingy\" Staff</td>\n",
       "      <td>Action, Free to Play, Indie, Massively Multipl...</td>\n",
       "      <td>Sin dato, Sin dato, Sin dato, Sin dato, Sin dato</td>\n",
       "      <td>\"Barely Attuned Magic Thingy\" Staff Sin dato, ...</td>\n",
       "    </tr>\n",
       "    <tr>\n",
       "      <th>2</th>\n",
       "      <td>\"Glow Ball\" - The billiard puzzle game</td>\n",
       "      <td>Casual, Indie, Sports, Strategy</td>\n",
       "      <td>WTFOMGames, WTFOMGames, WTFOMGames, WTFOMGames</td>\n",
       "      <td>\"Glow Ball\" - The billiard puzzle game WTFOMGa...</td>\n",
       "    </tr>\n",
       "    <tr>\n",
       "      <th>3</th>\n",
       "      <td>\"Just Another Day\" - Seduce Me Otome CD</td>\n",
       "      <td>Casual, Simulation</td>\n",
       "      <td>Sin dato, Sin dato</td>\n",
       "      <td>\"Just Another Day\" - Seduce Me Otome CD Sin da...</td>\n",
       "    </tr>\n",
       "    <tr>\n",
       "      <th>4</th>\n",
       "      <td>\"Lethargic Sentience\" Wand</td>\n",
       "      <td>Action, Free to Play, Indie, Massively Multipl...</td>\n",
       "      <td>Sin dato, Sin dato, Sin dato, Sin dato, Sin dato</td>\n",
       "      <td>\"Lethargic Sentience\" Wand Sin dato, Sin dato,...</td>\n",
       "    </tr>\n",
       "  </tbody>\n",
       "</table>\n",
       "</div>"
      ],
      "text/plain": [
       "                                          title  \\\n",
       "0  ! That Bastard Is Trying To Steal Our Gold !   \n",
       "1           \"Barely Attuned Magic Thingy\" Staff   \n",
       "2        \"Glow Ball\" - The billiard puzzle game   \n",
       "3       \"Just Another Day\" - Seduce Me Otome CD   \n",
       "4                    \"Lethargic Sentience\" Wand   \n",
       "\n",
       "                                              genres  \\\n",
       "0                   Action, Adventure, Casual, Indie   \n",
       "1  Action, Free to Play, Indie, Massively Multipl...   \n",
       "2                    Casual, Indie, Sports, Strategy   \n",
       "3                                 Casual, Simulation   \n",
       "4  Action, Free to Play, Indie, Massively Multipl...   \n",
       "\n",
       "                                          publisher  \\\n",
       "0    WTFOMGames, WTFOMGames, WTFOMGames, WTFOMGames   \n",
       "1  Sin dato, Sin dato, Sin dato, Sin dato, Sin dato   \n",
       "2    WTFOMGames, WTFOMGames, WTFOMGames, WTFOMGames   \n",
       "3                                Sin dato, Sin dato   \n",
       "4  Sin dato, Sin dato, Sin dato, Sin dato, Sin dato   \n",
       "\n",
       "                                          importante  \n",
       "0  ! That Bastard Is Trying To Steal Our Gold ! W...  \n",
       "1  \"Barely Attuned Magic Thingy\" Staff Sin dato, ...  \n",
       "2  \"Glow Ball\" - The billiard puzzle game WTFOMGa...  \n",
       "3  \"Just Another Day\" - Seduce Me Otome CD Sin da...  \n",
       "4  \"Lethargic Sentience\" Wand Sin dato, Sin dato,...  "
      ]
     },
     "execution_count": 39,
     "metadata": {},
     "output_type": "execute_result"
    }
   ],
   "source": [
    "dfModelo.head()"
   ]
  },
  {
   "cell_type": "code",
   "execution_count": 68,
   "metadata": {},
   "outputs": [],
   "source": [
    "dfMod = dfModelo.drop([\"importante\", \"publisher\"], axis=1)"
   ]
  },
  {
   "cell_type": "code",
   "execution_count": 9,
   "metadata": {},
   "outputs": [
    {
     "data": {
      "text/html": [
       "<div>\n",
       "<style scoped>\n",
       "    .dataframe tbody tr th:only-of-type {\n",
       "        vertical-align: middle;\n",
       "    }\n",
       "\n",
       "    .dataframe tbody tr th {\n",
       "        vertical-align: top;\n",
       "    }\n",
       "\n",
       "    .dataframe thead th {\n",
       "        text-align: right;\n",
       "    }\n",
       "</style>\n",
       "<table border=\"1\" class=\"dataframe\">\n",
       "  <thead>\n",
       "    <tr style=\"text-align: right;\">\n",
       "      <th></th>\n",
       "      <th>title</th>\n",
       "      <th>genres</th>\n",
       "    </tr>\n",
       "  </thead>\n",
       "  <tbody>\n",
       "    <tr>\n",
       "      <th>0</th>\n",
       "      <td>! That Bastard Is Trying To Steal Our Gold !</td>\n",
       "      <td>Action, Adventure, Casual, Indie</td>\n",
       "    </tr>\n",
       "    <tr>\n",
       "      <th>1</th>\n",
       "      <td>\"Barely Attuned Magic Thingy\" Staff</td>\n",
       "      <td>Action, Free to Play, Indie, Massively Multipl...</td>\n",
       "    </tr>\n",
       "    <tr>\n",
       "      <th>2</th>\n",
       "      <td>\"Glow Ball\" - The billiard puzzle game</td>\n",
       "      <td>Casual, Indie, Sports, Strategy</td>\n",
       "    </tr>\n",
       "    <tr>\n",
       "      <th>3</th>\n",
       "      <td>\"Just Another Day\" - Seduce Me Otome CD</td>\n",
       "      <td>Casual, Simulation</td>\n",
       "    </tr>\n",
       "    <tr>\n",
       "      <th>4</th>\n",
       "      <td>\"Lethargic Sentience\" Wand</td>\n",
       "      <td>Action, Free to Play, Indie, Massively Multipl...</td>\n",
       "    </tr>\n",
       "  </tbody>\n",
       "</table>\n",
       "</div>"
      ],
      "text/plain": [
       "                                          title  \\\n",
       "0  ! That Bastard Is Trying To Steal Our Gold !   \n",
       "1           \"Barely Attuned Magic Thingy\" Staff   \n",
       "2        \"Glow Ball\" - The billiard puzzle game   \n",
       "3       \"Just Another Day\" - Seduce Me Otome CD   \n",
       "4                    \"Lethargic Sentience\" Wand   \n",
       "\n",
       "                                              genres  \n",
       "0                   Action, Adventure, Casual, Indie  \n",
       "1  Action, Free to Play, Indie, Massively Multipl...  \n",
       "2                    Casual, Indie, Sports, Strategy  \n",
       "3                                 Casual, Simulation  \n",
       "4  Action, Free to Play, Indie, Massively Multipl...  "
      ]
     },
     "execution_count": 9,
     "metadata": {},
     "output_type": "execute_result"
    }
   ],
   "source": [
    "dfMod.head()"
   ]
  },
  {
   "cell_type": "markdown",
   "metadata": {},
   "source": [
    "## Modelo de recomendacion item- item\n",
    "\n",
    "En este apartado se genera el modelo de recomendacion item- item por la similitud del coseno.\n",
    "\n",
    "Se utilizo la libreria scikit learn para este proceso"
   ]
  },
  {
   "cell_type": "code",
   "execution_count": 11,
   "metadata": {},
   "outputs": [],
   "source": [
    "# Se importa vectorizer de sklearn\n",
    "\n",
    "from sklearn.feature_extraction.text import CountVectorizer\n",
    "import numpy as np "
   ]
  },
  {
   "cell_type": "code",
   "execution_count": 12,
   "metadata": {},
   "outputs": [],
   "source": [
    "cv = CountVectorizer(max_features = 5000, stop_words=\"english\")"
   ]
  },
  {
   "cell_type": "code",
   "execution_count": 13,
   "metadata": {},
   "outputs": [
    {
     "data": {
      "text/plain": [
       "(30055, 34)"
      ]
     },
     "execution_count": 13,
     "metadata": {},
     "output_type": "execute_result"
    }
   ],
   "source": [
    "cv.fit_transform(dfMod[\"genres\"]).toarray().shape"
   ]
  },
  {
   "cell_type": "code",
   "execution_count": 14,
   "metadata": {},
   "outputs": [],
   "source": [
    "# Se generan los vectores a comparar \n",
    "vectores = cv.fit_transform(dfMod[\"genres\"]).toarray()"
   ]
  },
  {
   "cell_type": "code",
   "execution_count": 15,
   "metadata": {},
   "outputs": [
    {
     "data": {
      "text/plain": [
       "array([[0, 0, 1, ..., 0, 0, 0],\n",
       "       [0, 0, 1, ..., 0, 0, 0],\n",
       "       [0, 0, 0, ..., 0, 0, 0],\n",
       "       ...,\n",
       "       [0, 0, 0, ..., 0, 0, 0],\n",
       "       [0, 0, 0, ..., 0, 0, 0],\n",
       "       [0, 0, 0, ..., 0, 0, 0]], dtype=int64)"
      ]
     },
     "execution_count": 15,
     "metadata": {},
     "output_type": "execute_result"
    }
   ],
   "source": [
    "# Se observan la forma de los vectores\n",
    "vectores"
   ]
  },
  {
   "cell_type": "code",
   "execution_count": 16,
   "metadata": {},
   "outputs": [],
   "source": [
    "# se llama la liberia de sklearn para la similitud del coseno\n",
    "from sklearn.metrics.pairwise import cosine_similarity"
   ]
  },
  {
   "cell_type": "code",
   "execution_count": 19,
   "metadata": {},
   "outputs": [],
   "source": [
    "# se aplica la similitud del coseno a nuestros vectores\n",
    "similitud = cosine_similarity(vectores)"
   ]
  },
  {
   "cell_type": "code",
   "execution_count": 20,
   "metadata": {},
   "outputs": [
    {
     "data": {
      "text/plain": [
       "array([1.        , 0.37796447, 0.5       , ..., 0.70710678, 0.70710678,\n",
       "       0.70710678])"
      ]
     },
     "execution_count": 20,
     "metadata": {},
     "output_type": "execute_result"
    }
   ],
   "source": [
    "# Se obtiene el array de similitud\n",
    "similitud[0]"
   ]
  },
  {
   "cell_type": "code",
   "execution_count": 21,
   "metadata": {},
   "outputs": [
    {
     "data": {
      "text/plain": [
       "[(158, 1.0), (327, 1.0), (513, 1.0), (656, 1.0), (657, 1.0)]"
      ]
     },
     "execution_count": 21,
     "metadata": {},
     "output_type": "execute_result"
    }
   ],
   "source": [
    "# Ordenamos la similitud entre más similar a menos similar tomando 5 valores\n",
    "sorted(list(enumerate(similitud[0])), reverse=True, key=lambda x:x[1])[1:6]"
   ]
  },
  {
   "cell_type": "code",
   "execution_count": 36,
   "metadata": {},
   "outputs": [],
   "source": [
    "# Se genera una funcion que te da la recomendación por titulo\n",
    "def recomendacion(game):\n",
    "    indice_juegos = dfMod[dfMod[\"title\"]==game].index[0]\n",
    "    distances = similitud[indice_juegos]\n",
    "    lista_juegos = sorted(list(enumerate(distances)), reverse=True, key=lambda x: x[1])[1:6]\n",
    "    recommended_titles = [dfMod.iloc[i[0]]['title'] for i in lista_juegos]\n",
    "    return recommended_titles"
   ]
  },
  {
   "cell_type": "code",
   "execution_count": 40,
   "metadata": {},
   "outputs": [
    {
     "data": {
      "text/plain": [
       "['Adorables',\n",
       " 'Fish or Die',\n",
       " 'LASER STRIKERS',\n",
       " 'More Than Just Chess',\n",
       " 'TREBUCHET']"
      ]
     },
     "execution_count": 40,
     "metadata": {},
     "output_type": "execute_result"
    }
   ],
   "source": [
    "# Se prueba la función \n",
    "recomendacion('\"Glow Ball\" - The billiard puzzle game')"
   ]
  },
  {
   "cell_type": "markdown",
   "metadata": {},
   "source": [
    "## Generación de una tabla de resultados \n",
    "\n",
    "Debido a las limitaciones de render se decidio aplicar el modelo a cada titulo diferente para así obtener un dataframe con las recomendaciones del modelo."
   ]
  },
  {
   "cell_type": "code",
   "execution_count": 41,
   "metadata": {},
   "outputs": [],
   "source": [
    "# Se aplica la función al dataframe para obtener una nueva columna con las recomendaciones ya que es más facil de cargar\n",
    "dfMod['recomendaciones'] = dfMod['title'].apply(recomendacion)"
   ]
  },
  {
   "cell_type": "code",
   "execution_count": 43,
   "metadata": {},
   "outputs": [
    {
     "data": {
      "text/html": [
       "<div>\n",
       "<style scoped>\n",
       "    .dataframe tbody tr th:only-of-type {\n",
       "        vertical-align: middle;\n",
       "    }\n",
       "\n",
       "    .dataframe tbody tr th {\n",
       "        vertical-align: top;\n",
       "    }\n",
       "\n",
       "    .dataframe thead th {\n",
       "        text-align: right;\n",
       "    }\n",
       "</style>\n",
       "<table border=\"1\" class=\"dataframe\">\n",
       "  <thead>\n",
       "    <tr style=\"text-align: right;\">\n",
       "      <th></th>\n",
       "      <th>title</th>\n",
       "      <th>genres</th>\n",
       "      <th>recomendaciones</th>\n",
       "    </tr>\n",
       "  </thead>\n",
       "  <tbody>\n",
       "    <tr>\n",
       "      <th>0</th>\n",
       "      <td>! That Bastard Is Trying To Steal Our Gold !</td>\n",
       "      <td>Action, Adventure, Casual, Indie</td>\n",
       "      <td>[36 Fragments of Midnight, A Goo Adventure, AN...</td>\n",
       "    </tr>\n",
       "    <tr>\n",
       "      <th>1</th>\n",
       "      <td>\"Barely Attuned Magic Thingy\" Staff</td>\n",
       "      <td>Action, Free to Play, Indie, Massively Multipl...</td>\n",
       "      <td>[\"Lethargic Sentience\" Wand, \"Precisely Calibr...</td>\n",
       "    </tr>\n",
       "    <tr>\n",
       "      <th>2</th>\n",
       "      <td>\"Glow Ball\" - The billiard puzzle game</td>\n",
       "      <td>Casual, Indie, Sports, Strategy</td>\n",
       "      <td>[Adorables, Fish or Die, LASER STRIKERS, More ...</td>\n",
       "    </tr>\n",
       "    <tr>\n",
       "      <th>3</th>\n",
       "      <td>\"Just Another Day\" - Seduce Me Otome CD</td>\n",
       "      <td>Casual, Simulation</td>\n",
       "      <td>[Agricultural Simulator 2013 - Steam Edition, ...</td>\n",
       "    </tr>\n",
       "    <tr>\n",
       "      <th>4</th>\n",
       "      <td>\"Lethargic Sentience\" Wand</td>\n",
       "      <td>Action, Free to Play, Indie, Massively Multipl...</td>\n",
       "      <td>[\"Lethargic Sentience\" Wand, \"Precisely Calibr...</td>\n",
       "    </tr>\n",
       "  </tbody>\n",
       "</table>\n",
       "</div>"
      ],
      "text/plain": [
       "                                          title  \\\n",
       "0  ! That Bastard Is Trying To Steal Our Gold !   \n",
       "1           \"Barely Attuned Magic Thingy\" Staff   \n",
       "2        \"Glow Ball\" - The billiard puzzle game   \n",
       "3       \"Just Another Day\" - Seduce Me Otome CD   \n",
       "4                    \"Lethargic Sentience\" Wand   \n",
       "\n",
       "                                              genres  \\\n",
       "0                   Action, Adventure, Casual, Indie   \n",
       "1  Action, Free to Play, Indie, Massively Multipl...   \n",
       "2                    Casual, Indie, Sports, Strategy   \n",
       "3                                 Casual, Simulation   \n",
       "4  Action, Free to Play, Indie, Massively Multipl...   \n",
       "\n",
       "                                     recomendaciones  \n",
       "0  [36 Fragments of Midnight, A Goo Adventure, AN...  \n",
       "1  [\"Lethargic Sentience\" Wand, \"Precisely Calibr...  \n",
       "2  [Adorables, Fish or Die, LASER STRIKERS, More ...  \n",
       "3  [Agricultural Simulator 2013 - Steam Edition, ...  \n",
       "4  [\"Lethargic Sentience\" Wand, \"Precisely Calibr...  "
      ]
     },
     "execution_count": 43,
     "metadata": {},
     "output_type": "execute_result"
    }
   ],
   "source": [
    "dfMod.head()"
   ]
  },
  {
   "cell_type": "markdown",
   "metadata": {},
   "source": [
    "Al realizar la API me dí cuenta de un error ya que la función se obtuvo con el titulo y se tiene que entregar por id por lo que se convinan dataframes para tenerlo correcto."
   ]
  },
  {
   "cell_type": "code",
   "execution_count": 45,
   "metadata": {},
   "outputs": [],
   "source": [
    "MODELO = dfMod.drop([\"genres\"], axis=1)"
   ]
  },
  {
   "cell_type": "code",
   "execution_count": 47,
   "metadata": {},
   "outputs": [],
   "source": [
    "MODELO.to_parquet(\"Modelo.parquet\")"
   ]
  },
  {
   "cell_type": "code",
   "execution_count": 48,
   "metadata": {},
   "outputs": [],
   "source": [
    "M1 = pd.read_parquet(\"data/Modelo.parquet\")"
   ]
  },
  {
   "cell_type": "code",
   "execution_count": 54,
   "metadata": {},
   "outputs": [],
   "source": [
    "MODELO = pd.merge(dfD,M1, on=\"title\")"
   ]
  },
  {
   "cell_type": "code",
   "execution_count": 86,
   "metadata": {},
   "outputs": [
    {
     "data": {
      "text/html": [
       "<div>\n",
       "<style scoped>\n",
       "    .dataframe tbody tr th:only-of-type {\n",
       "        vertical-align: middle;\n",
       "    }\n",
       "\n",
       "    .dataframe tbody tr th {\n",
       "        vertical-align: top;\n",
       "    }\n",
       "\n",
       "    .dataframe thead th {\n",
       "        text-align: right;\n",
       "    }\n",
       "</style>\n",
       "<table border=\"1\" class=\"dataframe\">\n",
       "  <thead>\n",
       "    <tr style=\"text-align: right;\">\n",
       "      <th></th>\n",
       "      <th>id</th>\n",
       "      <th>recomendaciones</th>\n",
       "    </tr>\n",
       "  </thead>\n",
       "  <tbody>\n",
       "    <tr>\n",
       "      <th>0</th>\n",
       "      <td>1799760</td>\n",
       "      <td>[36 Fragments of Midnight, A Goo Adventure, AN...</td>\n",
       "    </tr>\n",
       "    <tr>\n",
       "      <th>1</th>\n",
       "      <td>1540815</td>\n",
       "      <td>[\"Lethargic Sentience\" Wand, \"Precisely Calibr...</td>\n",
       "    </tr>\n",
       "    <tr>\n",
       "      <th>2</th>\n",
       "      <td>1553560</td>\n",
       "      <td>[Adorables, Fish or Die, LASER STRIKERS, More ...</td>\n",
       "    </tr>\n",
       "    <tr>\n",
       "      <th>3</th>\n",
       "      <td>909580</td>\n",
       "      <td>[Agricultural Simulator 2013 - Steam Edition, ...</td>\n",
       "    </tr>\n",
       "    <tr>\n",
       "      <th>4</th>\n",
       "      <td>1540820</td>\n",
       "      <td>[\"Lethargic Sentience\" Wand, \"Precisely Calibr...</td>\n",
       "    </tr>\n",
       "  </tbody>\n",
       "</table>\n",
       "</div>"
      ],
      "text/plain": [
       "        id                                    recomendaciones\n",
       "0  1799760  [36 Fragments of Midnight, A Goo Adventure, AN...\n",
       "1  1540815  [\"Lethargic Sentience\" Wand, \"Precisely Calibr...\n",
       "2  1553560  [Adorables, Fish or Die, LASER STRIKERS, More ...\n",
       "3   909580  [Agricultural Simulator 2013 - Steam Edition, ...\n",
       "4  1540820  [\"Lethargic Sentience\" Wand, \"Precisely Calibr..."
      ]
     },
     "execution_count": 86,
     "metadata": {},
     "output_type": "execute_result"
    }
   ],
   "source": [
    "MODELO.head()"
   ]
  },
  {
   "cell_type": "code",
   "execution_count": 57,
   "metadata": {},
   "outputs": [],
   "source": [
    "#Se guarda en parquet para mayor eficiencia\n",
    "MODELO.to_parquet(\"Modelo.parquet\")"
   ]
  },
  {
   "cell_type": "code",
   "execution_count": 58,
   "metadata": {},
   "outputs": [],
   "source": [
    "# Se genera una copia del dataframe para su restauración \n",
    "Modelo = MODELO"
   ]
  },
  {
   "cell_type": "code",
   "execution_count": 74,
   "metadata": {},
   "outputs": [
    {
     "data": {
      "text/html": [
       "<div>\n",
       "<style scoped>\n",
       "    .dataframe tbody tr th:only-of-type {\n",
       "        vertical-align: middle;\n",
       "    }\n",
       "\n",
       "    .dataframe tbody tr th {\n",
       "        vertical-align: top;\n",
       "    }\n",
       "\n",
       "    .dataframe thead th {\n",
       "        text-align: right;\n",
       "    }\n",
       "</style>\n",
       "<table border=\"1\" class=\"dataframe\">\n",
       "  <thead>\n",
       "    <tr style=\"text-align: right;\">\n",
       "      <th></th>\n",
       "      <th>id</th>\n",
       "      <th>recomendaciones</th>\n",
       "    </tr>\n",
       "  </thead>\n",
       "  <tbody>\n",
       "    <tr>\n",
       "      <th>0</th>\n",
       "      <td>1799760</td>\n",
       "      <td>[36 Fragments of Midnight, A Goo Adventure, AN...</td>\n",
       "    </tr>\n",
       "    <tr>\n",
       "      <th>1</th>\n",
       "      <td>1540815</td>\n",
       "      <td>[\"Lethargic Sentience\" Wand, \"Precisely Calibr...</td>\n",
       "    </tr>\n",
       "    <tr>\n",
       "      <th>2</th>\n",
       "      <td>1553560</td>\n",
       "      <td>[Adorables, Fish or Die, LASER STRIKERS, More ...</td>\n",
       "    </tr>\n",
       "    <tr>\n",
       "      <th>3</th>\n",
       "      <td>909580</td>\n",
       "      <td>[Agricultural Simulator 2013 - Steam Edition, ...</td>\n",
       "    </tr>\n",
       "    <tr>\n",
       "      <th>4</th>\n",
       "      <td>1540820</td>\n",
       "      <td>[\"Lethargic Sentience\" Wand, \"Precisely Calibr...</td>\n",
       "    </tr>\n",
       "  </tbody>\n",
       "</table>\n",
       "</div>"
      ],
      "text/plain": [
       "        id                                    recomendaciones\n",
       "0  1799760  [36 Fragments of Midnight, A Goo Adventure, AN...\n",
       "1  1540815  [\"Lethargic Sentience\" Wand, \"Precisely Calibr...\n",
       "2  1553560  [Adorables, Fish or Die, LASER STRIKERS, More ...\n",
       "3   909580  [Agricultural Simulator 2013 - Steam Edition, ...\n",
       "4  1540820  [\"Lethargic Sentience\" Wand, \"Precisely Calibr..."
      ]
     },
     "execution_count": 74,
     "metadata": {},
     "output_type": "execute_result"
    }
   ],
   "source": [
    "Modelo.head()"
   ]
  },
  {
   "cell_type": "code",
   "execution_count": 75,
   "metadata": {},
   "outputs": [
    {
     "name": "stdout",
     "output_type": "stream",
     "text": [
      "<class 'pandas.core.frame.DataFrame'>\n",
      "RangeIndex: 30055 entries, 0 to 30054\n",
      "Data columns (total 2 columns):\n",
      " #   Column           Non-Null Count  Dtype \n",
      "---  ------           --------------  ----- \n",
      " 0   id               30055 non-null  int32 \n",
      " 1   recomendaciones  30055 non-null  object\n",
      "dtypes: int32(1), object(1)\n",
      "memory usage: 352.3+ KB\n"
     ]
    }
   ],
   "source": [
    "Modelo.info()"
   ]
  },
  {
   "cell_type": "markdown",
   "metadata": {},
   "source": [
    "Se hicieron pruebas con las siguientes funciones ya que corren en este entorno pero no en la API"
   ]
  },
  {
   "cell_type": "code",
   "execution_count": 76,
   "metadata": {},
   "outputs": [],
   "source": [
    "# Esta función sirve en el notebook pero no en la API por lo que sr tuvo que cambiar\n",
    "def recomendacion_juego(id_producto):\n",
    "    recomendacion = Modelo[Modelo['id'] == id_producto]['recomendaciones'].iloc[0]\n",
    "    \n",
    "    return {\n",
    "        'Segun el id que proporcionaste te podrian interesar estos juegos': recomendacion\n",
    "    }"
   ]
  },
  {
   "cell_type": "code",
   "execution_count": 77,
   "metadata": {},
   "outputs": [
    {
     "data": {
      "text/plain": [
       "{'Segun el id que proporcionaste te podrian interesar estos juegos': array(['Adorables', 'Fish or Die', 'LASER STRIKERS',\n",
       "        'More Than Just Chess', 'TREBUCHET'], dtype=object)}"
      ]
     },
     "execution_count": 77,
     "metadata": {},
     "output_type": "execute_result"
    }
   ],
   "source": [
    "recomendacion_juego(1553560)"
   ]
  },
  {
   "cell_type": "code",
   "execution_count": 82,
   "metadata": {},
   "outputs": [],
   "source": [
    "# Esta funcion es compatible con la API por lo que fue la que se dejo \n",
    "def obtener_recomendaciones_dict_por_id(id_producto):\n",
    "    recomendaciones = Modelo[Modelo['id'] == id_producto]['recomendaciones'].iloc[0]\n",
    "    \n",
    "    # Verificar si la lista de recomendaciones no está vacía\n",
    "    if len(recomendaciones) > 0:\n",
    "        recomendaciones_dict = {i + 1: juego for i, juego in enumerate(recomendaciones)}\n",
    "        return recomendaciones_dict\n",
    "    else:\n",
    "        # Si la lista de recomendaciones está vacía, devolver un diccionario vacío\n",
    "        return {}"
   ]
  },
  {
   "cell_type": "code",
   "execution_count": 84,
   "metadata": {},
   "outputs": [
    {
     "name": "stdout",
     "output_type": "stream",
     "text": [
      "{1: '\"Lethargic Sentience\" Wand', 2: '\"Precisely Calibrated Stringstick\" Bow', 3: '\"Toy Knife\" Dagger', 4: '\"Unstable Anomaly\" Sword', 5: 'Gangs of Space - Panther Pack'}\n"
     ]
    }
   ],
   "source": [
    "recomendaciones_dict = obtener_recomendaciones_dict_por_id(1540815)\n",
    "print(recomendaciones_dict)"
   ]
  }
 ],
 "metadata": {
  "kernelspec": {
   "display_name": "env",
   "language": "python",
   "name": "python3"
  },
  "language_info": {
   "codemirror_mode": {
    "name": "ipython",
    "version": 3
   },
   "file_extension": ".py",
   "mimetype": "text/x-python",
   "name": "python",
   "nbconvert_exporter": "python",
   "pygments_lexer": "ipython3",
   "version": "3.11.3"
  },
  "orig_nbformat": 4
 },
 "nbformat": 4,
 "nbformat_minor": 2
}
